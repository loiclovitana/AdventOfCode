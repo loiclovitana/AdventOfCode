{
 "cells": [
  {
   "cell_type": "code",
   "execution_count": 1,
   "id": "1fa8995b",
   "metadata": {},
   "outputs": [],
   "source": [
    "DAY = \"2\""
   ]
  },
  {
   "cell_type": "code",
   "execution_count": 2,
   "id": "9e393f79",
   "metadata": {},
   "outputs": [
    {
     "data": {
      "application/javascript": [
       "IPython.notebook.kernel.execute('notebook = \"' + IPython.notebook.notebook_name + '\"')\n"
      ],
      "text/plain": [
       "<IPython.core.display.Javascript object>"
      ]
     },
     "metadata": {},
     "output_type": "display_data"
    }
   ],
   "source": [
    "%%javascript\n",
    "IPython.notebook.kernel.execute('notebook = \"' + IPython.notebook.notebook_name + '\"')"
   ]
  },
  {
   "cell_type": "code",
   "execution_count": 3,
   "id": "d836a0d7",
   "metadata": {},
   "outputs": [],
   "source": [
    "DAY = notebook.split('.')[0]"
   ]
  },
  {
   "cell_type": "code",
   "execution_count": null,
   "id": "c63b0c01",
   "metadata": {},
   "outputs": [],
   "source": [
    "with open(f'{DAY}.txt','r') as f:\n",
    "    INPUT = f.read()"
   ]
  },
  {
   "cell_type": "code",
   "execution_count": 55,
   "id": "fb454b4b",
   "metadata": {},
   "outputs": [],
   "source": [
    "import numpy as np\n",
    "import pandas as pd"
   ]
  },
  {
   "cell_type": "code",
   "execution_count": 56,
   "id": "5a84f267",
   "metadata": {},
   "outputs": [],
   "source": [
    "games_input = [\n",
    "    l.split(':')\n",
    "    for l in INPUT.split('\\n')\n",
    "]"
   ]
  },
  {
   "cell_type": "code",
   "execution_count": 61,
   "id": "b0448543",
   "metadata": {},
   "outputs": [],
   "source": [
    "def parse_cubes(l):\n",
    "    max_rgb= [0,0,0]\n",
    "    for d in l.split(';'):\n",
    "        for c in d.split(','):\n",
    "            c = c.strip().split(' ')\n",
    "            if c[1]=='red' and int(c[0])>max_rgb[0]:\n",
    "                max_rgb[0]=int(c[0])\n",
    "            if c[1]=='green' and int(c[0])>max_rgb[1]:\n",
    "                max_rgb[1]=int(c[0])\n",
    "            if c[1]=='blue' and int(c[0])>max_rgb[2]:\n",
    "                max_rgb[2]=int(c[0])\n",
    "    return max_rgb\n",
    "        "
   ]
  },
  {
   "cell_type": "code",
   "execution_count": 62,
   "id": "ebbf210c",
   "metadata": {},
   "outputs": [],
   "source": [
    "games = {\n",
    "    int(l[0][4:]): parse_cubes(l[1]) \n",
    "    for l in games_input\n",
    "}"
   ]
  },
  {
   "cell_type": "code",
   "execution_count": 66,
   "id": "31b1ca3e",
   "metadata": {},
   "outputs": [],
   "source": [
    "possible_games = {\n",
    "    k\n",
    "    for k,v in games.items()\n",
    "    if v[0]<=12 and v[1]<=13 and v[2]<=14\n",
    "}"
   ]
  },
  {
   "cell_type": "code",
   "execution_count": 67,
   "id": "6f4652cf",
   "metadata": {},
   "outputs": [
    {
     "data": {
      "text/plain": [
       "2076"
      ]
     },
     "execution_count": 67,
     "metadata": {},
     "output_type": "execute_result"
    }
   ],
   "source": [
    "sum(possible_games)"
   ]
  },
  {
   "cell_type": "code",
   "execution_count": null,
   "id": "160c730a",
   "metadata": {},
   "outputs": [],
   "source": []
  }
 ],
 "metadata": {
  "kernelspec": {
   "display_name": "Python 3 (ipykernel)",
   "language": "python",
   "name": "python3"
  },
  "language_info": {
   "codemirror_mode": {
    "name": "ipython",
    "version": 3
   },
   "file_extension": ".py",
   "mimetype": "text/x-python",
   "name": "python",
   "nbconvert_exporter": "python",
   "pygments_lexer": "ipython3",
   "version": "3.9.13"
  }
 },
 "nbformat": 4,
 "nbformat_minor": 5
}
