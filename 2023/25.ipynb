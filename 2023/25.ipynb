{
 "cells": [
  {
   "cell_type": "code",
   "execution_count": 26,
   "id": "7f915e6e",
   "metadata": {},
   "outputs": [
    {
     "data": {
      "application/javascript": [
       "IPython.notebook.kernel.execute('notebook = \"' + IPython.notebook.notebook_name + '\"')\n"
      ],
      "text/plain": [
       "<IPython.core.display.Javascript object>"
      ]
     },
     "metadata": {},
     "output_type": "display_data"
    }
   ],
   "source": [
    "%%javascript\n",
    "IPython.notebook.kernel.execute('notebook = \"' + IPython.notebook.notebook_name + '\"')"
   ]
  },
  {
   "cell_type": "code",
   "execution_count": 28,
   "id": "fb90bd9d",
   "metadata": {},
   "outputs": [
    {
     "data": {
      "text/plain": [
       "'25'"
      ]
     },
     "execution_count": 28,
     "metadata": {},
     "output_type": "execute_result"
    }
   ],
   "source": [
    "DAY = notebook.split('.')[0]"
   ]
  },
  {
   "cell_type": "code",
   "execution_count": 30,
   "id": "363f0e73",
   "metadata": {},
   "outputs": [],
   "source": [
    "with open(f'{DAY}.txt','r') as f:\n",
    "    INPUT = f.read()"
   ]
  },
  {
   "cell_type": "code",
   "execution_count": 31,
   "id": "fb454b4b",
   "metadata": {},
   "outputs": [],
   "source": [
    "import numpy as np\n",
    "import pandas as pd"
   ]
  },
  {
   "cell_type": "code",
   "execution_count": 32,
   "id": "c56f42e4",
   "metadata": {},
   "outputs": [],
   "source": [
    "import random"
   ]
  },
  {
   "cell_type": "code",
   "execution_count": 33,
   "id": "3a3cf322",
   "metadata": {},
   "outputs": [],
   "source": [
    "import networkx as nx"
   ]
  },
  {
   "cell_type": "code",
   "execution_count": 34,
   "id": "780cb54d",
   "metadata": {},
   "outputs": [],
   "source": [
    "links = {\n",
    "    x.split(':')[0]:x.split(':')[1].strip().split() for x in INPUT.split('\\n')\n",
    "}\n",
    "vertices = set()\n",
    "for n1,ns in links.items():\n",
    "    for n2 in ns:\n",
    "        vertices.add((n1,n2))"
   ]
  },
  {
   "cell_type": "code",
   "execution_count": 35,
   "id": "75132053",
   "metadata": {},
   "outputs": [],
   "source": [
    "G = nx.Graph() \n",
    "for v in vertices:\n",
    "    G.add_edge(v[0],v[1],weight=1)"
   ]
  },
  {
   "cell_type": "code",
   "execution_count": 36,
   "id": "8a22db92",
   "metadata": {},
   "outputs": [],
   "source": [
    "cut_val, part = nx.stoer_wagner(G)"
   ]
  },
  {
   "cell_type": "code",
   "execution_count": 37,
   "id": "d6e062c8",
   "metadata": {},
   "outputs": [
    {
     "data": {
      "text/plain": [
       "(754, 733)"
      ]
     },
     "execution_count": 37,
     "metadata": {},
     "output_type": "execute_result"
    }
   ],
   "source": [
    "len(part[0]),len(part[1])"
   ]
  },
  {
   "cell_type": "code",
   "execution_count": 22,
   "id": "716bf9f3",
   "metadata": {},
   "outputs": [
    {
     "data": {
      "text/plain": [
       "3"
      ]
     },
     "execution_count": 22,
     "metadata": {},
     "output_type": "execute_result"
    }
   ],
   "source": [
    "cut_val"
   ]
  },
  {
   "cell_type": "code",
   "execution_count": null,
   "id": "03d9791d",
   "metadata": {},
   "outputs": [],
   "source": []
  }
 ],
 "metadata": {
  "kernelspec": {
   "display_name": "Python 3 (ipykernel)",
   "language": "python",
   "name": "python3"
  },
  "language_info": {
   "codemirror_mode": {
    "name": "ipython",
    "version": 3
   },
   "file_extension": ".py",
   "mimetype": "text/x-python",
   "name": "python",
   "nbconvert_exporter": "python",
   "pygments_lexer": "ipython3",
   "version": "3.9.13"
  }
 },
 "nbformat": 4,
 "nbformat_minor": 5
}
