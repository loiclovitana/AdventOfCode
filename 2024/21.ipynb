{
 "cells": [
  {
   "cell_type": "code",
   "execution_count": 4,
   "metadata": {},
   "outputs": [],
   "source": [
    "DAY = \"21\""
   ]
  },
  {
   "cell_type": "code",
   "execution_count": 5,
   "metadata": {},
   "outputs": [],
   "source": [
    "import os\n",
    "with open(f'session.secret','r') as f:\n",
    "    SESSION = f\"session={f.read()}\"\n",
    "\n",
    "INPUT_FILE = f\"{DAY}.txt\""
   ]
  },
  {
   "cell_type": "code",
   "execution_count": 6,
   "metadata": {},
   "outputs": [],
   "source": [
    "# Manual INPUT\n",
    "INPUT =\"\"\"INPUT\"\"\""
   ]
  },
  {
   "cell_type": "code",
   "execution_count": 7,
   "metadata": {},
   "outputs": [],
   "source": [
    "# Automatic INPUT\n",
    "import os.path\n",
    "if not os.path.isfile(INPUT_FILE):\n",
    "    !curl https://adventofcode.com/2024/day/{DAY}/input --cookie {SESSION} > {INPUT_FILE}\n",
    "with open(INPUT_FILE,'r') as f:\n",
    "    INPUT = f.read().strip()"
   ]
  },
  {
   "cell_type": "markdown",
   "metadata": {},
   "source": [
    "## Usefull import"
   ]
  },
  {
   "cell_type": "code",
   "execution_count": 8,
   "metadata": {},
   "outputs": [],
   "source": [
    "import numpy as np\n",
    "import pandas as pd\n",
    "import networkx as nx\n",
    "import copy as cp\n",
    "import re"
   ]
  },
  {
   "cell_type": "code",
   "execution_count": 9,
   "metadata": {},
   "outputs": [],
   "source": [
    "DIR = {(0,1):'>',(1,0):'v',(0,-1):'<',(-1,0):'^'}\n",
    "DIRd = {v:k for k,v in DIR.items()}"
   ]
  },
  {
   "cell_type": "markdown",
   "metadata": {},
   "source": [
    "## Solution"
   ]
  },
  {
   "cell_type": "code",
   "execution_count": 19,
   "metadata": {},
   "outputs": [],
   "source": [
    "codes = INPUT.split()"
   ]
  },
  {
   "cell_type": "code",
   "execution_count": 12,
   "metadata": {},
   "outputs": [],
   "source": [
    "NUMPAD_POS = {\n",
    "    'A':(0,0)\n",
    "    ,'0':(0,-1)\n",
    "    ,'1':(-1,-2)\n",
    "    ,'2':(-1,-1)\n",
    "    ,'3':(-1,0)\n",
    "    ,'4':(-2,-2)\n",
    "    ,'5':(-2,-1)\n",
    "    ,'6':(-2,0)\n",
    "    ,'7':(-3,-2)\n",
    "    ,'8':(-3,-1)\n",
    "    ,'9':(-3,0)\n",
    "}\n",
    "NUMPAD_KEY = {v:k for k,v in NUMPAD_POS.items()}    "
   ]
  },
  {
   "cell_type": "code",
   "execution_count": 13,
   "metadata": {},
   "outputs": [],
   "source": [
    "DIR_POS ={\n",
    "    'A':(0,0),\n",
    "    '^':(0,-1),\n",
    "    '<':(1,-2),\n",
    "    'v':(1,-1),\n",
    "    '>':(1,0)\n",
    "}\n",
    "DIR_KEY = { v:k for k,v in DIR_POS.items()}"
   ]
  },
  {
   "cell_type": "code",
   "execution_count": 17,
   "metadata": {},
   "outputs": [],
   "source": [
    "def movekey(direction,current_key,numpad=False):\n",
    "    POS = NUMPAD_POS if numpad else DIR_POS\n",
    "    KEY = NUMPAD_KEY if numpad else DIR_KEY\n",
    "    \n",
    "    cx,cy = POS[current_key]\n",
    "    dx,dy = DIRd[direction]\n",
    "    nx,ny = cx+dx,cy+dy\n",
    "    \n",
    "    if (nx,ny) not in KEY:\n",
    "        return False\n",
    "    return KEY[(nx,ny)]\n",
    "    "
   ]
  },
  {
   "cell_type": "code",
   "execution_count": 18,
   "metadata": {},
   "outputs": [],
   "source": [
    "G = nx.DiGraph()\n",
    "for r1 in DIR_POS:\n",
    "    for r2 in DIR_POS:\n",
    "        for r3 in NUMPAD_POS:\n",
    "            \n",
    "            node = (r1,r2,r3)\n",
    "            for user_key in DIR_POS:\n",
    "                if user_key != 'A':\n",
    "                    nr1=movekey(user_key,r1)\n",
    "                    if nr1:\n",
    "                        G.add_edge(node, (nr1,r2,r3), user_key=user_key)\n",
    "                    continue\n",
    "                if r1!='A':\n",
    "                    nr2=movekey(r1,r2)\n",
    "                    if nr2:\n",
    "                        G.add_edge(node, (r1,nr2,r3), user_key=user_key)\n",
    "                    continue\n",
    "                \n",
    "                if r2!='A':\n",
    "                    nr3=movekey(r2,r3,numpad=True)\n",
    "                    if nr3:\n",
    "                        G.add_edge(node, (r1,r2,nr3), user_key=user_key)\n",
    "                    continue\n",
    "                        "
   ]
  },
  {
   "cell_type": "code",
   "execution_count": 20,
   "metadata": {},
   "outputs": [],
   "source": [
    "def path_len(code):\n",
    "    PRESS_A_LEN = 1\n",
    "    current_node= ('A','A','A')\n",
    "    total_len = 0\n",
    "    for digit in code:\n",
    "        next_node = ('A','A',digit)\n",
    "        len_to_go = nx.shortest_path_length(G,current_node,next_node)\n",
    "        total_len+=len_to_go+PRESS_A_LEN\n",
    "        current_node=next_node\n",
    "    return total_len"
   ]
  },
  {
   "cell_type": "code",
   "execution_count": 21,
   "metadata": {},
   "outputs": [
    {
     "data": {
      "text/plain": [
       "164960"
      ]
     },
     "execution_count": 21,
     "metadata": {},
     "output_type": "execute_result"
    }
   ],
   "source": [
    "sum([int(c.replace('A',''))*path_len(c) for c in codes])"
   ]
  },
  {
   "cell_type": "markdown",
   "metadata": {},
   "source": [
    "## Part 2"
   ]
  },
  {
   "cell_type": "code",
   "execution_count": 25,
   "metadata": {},
   "outputs": [],
   "source": [
    "def is_path_valid(s,e,path,numpad=False):\n",
    "    c = s\n",
    "    for d in path:\n",
    "        c=movekey(d,c,numpad=numpad)\n",
    "        if not c:\n",
    "            return False\n",
    "    return True\n",
    "\n",
    "NUMPAD_SHORTEST=dict()\n",
    "for s,(sx,sy) in NUMPAD_POS.items():\n",
    "    for e,(ex,ey) in NUMPAD_POS.items():\n",
    "        dy = (ey-sy)\n",
    "        y = ('>' if dy>0 else '<')*abs(dy)\n",
    "        dx = ex-sx\n",
    "        x = ('v' if dx>0 else '^')*abs(dx)\n",
    "        \n",
    "        paths= [p for p in list(set([x+y,y+x])) if is_path_valid(s,e,p,numpad=True)]\n",
    "        NUMPAD_SHORTEST[(s,e)] = [p+'A' for p in paths ]\n",
    "\n"
   ]
  },
  {
   "cell_type": "code",
   "execution_count": 26,
   "metadata": {},
   "outputs": [],
   "source": [
    "DIRPAD_SHORTEST=dict()\n",
    "for s,(sx,sy) in DIR_POS.items():\n",
    "    for e,(ex,ey) in DIR_POS.items():\n",
    "        dy = (ey-sy)\n",
    "        y = ('>' if dy>0 else '<')*abs(dy)\n",
    "        dx = ex-sx\n",
    "        x = ('v' if dx>0 else '^')*abs(dx)\n",
    "        \n",
    "        paths=  [p for p in list(set([x+y,y+x])) if is_path_valid(s,e,p,numpad=False)]\n",
    "        DIRPAD_SHORTEST[(s,e)]= [p+'A' for p in paths ]"
   ]
  },
  {
   "cell_type": "code",
   "execution_count": 34,
   "metadata": {},
   "outputs": [],
   "source": [
    "DIRPAD_SHORTEST.update(NUMPAD_SHORTEST)"
   ]
  },
  {
   "cell_type": "code",
   "execution_count": 57,
   "metadata": {},
   "outputs": [],
   "source": [
    "cache = dict()\n",
    "def solve_shortest(n,code):\n",
    "    if (n,code) in cache:\n",
    "        return cache[(n,code)]\n",
    "    \n",
    "    if n==0:\n",
    "        return len(code)\n",
    "    \n",
    "    total = 0\n",
    "    for s,e in zip('A'+code,code):\n",
    "        all_possibilities = DIRPAD_SHORTEST[(s,e)]\n",
    "        total += min([solve_shortest(n-1,p) for p in all_possibilities])\n",
    "    \n",
    "    cache[(n,code)]=total\n",
    "    return total"
   ]
  },
  {
   "cell_type": "code",
   "execution_count": 59,
   "metadata": {},
   "outputs": [
    {
     "name": "stdout",
     "output_type": "stream",
     "text": [
      "3.42 µs ± 184 ns per loop (mean ± std. dev. of 7 runs, 100000 loops each)\n"
     ]
    }
   ],
   "source": [
    "%%timeit\n",
    "sum([solve_shortest(26,code)*int(code.replace('A','')) for code in codes])"
   ]
  },
  {
   "cell_type": "code",
   "execution_count": null,
   "metadata": {},
   "outputs": [],
   "source": []
  }
 ],
 "metadata": {
  "kernelspec": {
   "display_name": "Python 3",
   "language": "python",
   "name": "python3"
  },
  "language_info": {
   "codemirror_mode": {
    "name": "ipython",
    "version": 3
   },
   "file_extension": ".py",
   "mimetype": "text/x-python",
   "name": "python",
   "nbconvert_exporter": "python",
   "pygments_lexer": "ipython3",
   "version": "3.8.10"
  }
 },
 "nbformat": 4,
 "nbformat_minor": 5
}
