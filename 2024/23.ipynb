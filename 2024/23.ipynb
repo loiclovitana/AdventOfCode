{
 "cells": [
  {
   "cell_type": "code",
   "execution_count": 1,
   "metadata": {},
   "outputs": [],
   "source": [
    "DAY = \"23\""
   ]
  },
  {
   "cell_type": "code",
   "execution_count": 2,
   "metadata": {},
   "outputs": [],
   "source": [
    "import os\n",
    "with open(f'session.secret','r') as f:\n",
    "    SESSION = f\"session={f.read()}\"\n",
    "\n",
    "INPUT_FILE = f\"{DAY}.txt\""
   ]
  },
  {
   "cell_type": "code",
   "execution_count": 3,
   "metadata": {},
   "outputs": [],
   "source": [
    "# Manual INPUT\n",
    "INPUT =\"\"\"INPUT\"\"\""
   ]
  },
  {
   "cell_type": "code",
   "execution_count": 4,
   "metadata": {},
   "outputs": [],
   "source": [
    "# Automatic INPUT\n",
    "import os.path\n",
    "if not os.path.isfile(INPUT_FILE):\n",
    "    !curl https://adventofcode.com/2024/day/{DAY}/input --cookie {SESSION} > {INPUT_FILE}\n",
    "with open(INPUT_FILE,'r') as f:\n",
    "    INPUT = f.read().strip()"
   ]
  },
  {
   "cell_type": "markdown",
   "metadata": {},
   "source": [
    "## Usefull import"
   ]
  },
  {
   "cell_type": "code",
   "execution_count": 5,
   "metadata": {},
   "outputs": [],
   "source": [
    "import numpy as np\n",
    "import pandas as pd\n",
    "import networkx as nx\n",
    "import copy as cp\n",
    "import re"
   ]
  },
  {
   "cell_type": "code",
   "execution_count": 6,
   "metadata": {},
   "outputs": [],
   "source": [
    "DIR = {(0,1):'>',(1,0):'v',(0,-1):'<',(-1,0):'^'}\n",
    "DIRd = {v:k for k,v in DIR.items()}"
   ]
  },
  {
   "cell_type": "markdown",
   "metadata": {},
   "source": [
    "## Solution"
   ]
  },
  {
   "cell_type": "code",
   "execution_count": 7,
   "metadata": {},
   "outputs": [],
   "source": [
    "G= nx.Graph()\n",
    "for row in INPUT.split():\n",
    "    pc1=row.split('-')[0].strip()\n",
    "    pc2=row.split('-')[1].strip()\n",
    "    G.add_edge(pc1,pc2)"
   ]
  },
  {
   "cell_type": "code",
   "execution_count": 8,
   "metadata": {},
   "outputs": [
    {
     "data": {
      "text/plain": [
       "893"
      ]
     },
     "execution_count": 8,
     "metadata": {},
     "output_type": "execute_result"
    }
   ],
   "source": [
    "interconnected = set()\n",
    "for pc1,pc2 in G.edges():\n",
    "    for pc3 in G.nodes():\n",
    "        if 't' != pc3[0]:\n",
    "            continue\n",
    "        if G.has_edge(pc1,pc3) and G.has_edge(pc2,pc3):\n",
    "            group = [pc1,pc2,pc3]\n",
    "            group.sort()\n",
    "            interconnected.add('-'.join(group))\n",
    "len(interconnected)"
   ]
  },
  {
   "cell_type": "markdown",
   "metadata": {},
   "source": [
    "### Part 2\n",
    "solution using networkx algo"
   ]
  },
  {
   "cell_type": "code",
   "execution_count": 9,
   "metadata": {},
   "outputs": [
    {
     "data": {
      "text/plain": [
       "'cw,dy,ef,iw,ji,jv,ka,ob,qv,ry,ua,wt,xz'"
      ]
     },
     "execution_count": 9,
     "metadata": {},
     "output_type": "execute_result"
    }
   ],
   "source": [
    "cliques = nx.find_cliques(G)\n",
    "max_clique = []\n",
    "for c in cliques:\n",
    "    if len(c)>len(max_clique):\n",
    "        max_clique = c\n",
    "max_clique.sort()\n",
    "','.join(max_clique)"
   ]
  },
  {
   "cell_type": "markdown",
   "metadata": {},
   "source": [
    "## alternative\n",
    "Solution using no algo of networkx"
   ]
  },
  {
   "cell_type": "code",
   "execution_count": 12,
   "metadata": {},
   "outputs": [],
   "source": [
    "def is_complete(nodes):\n",
    "    for n1 in nodes:\n",
    "        for n2 in nodes:\n",
    "            if n1==n2:\n",
    "                continue\n",
    "            if not G.has_edge(n1,n2):\n",
    "                return False\n",
    "    return True"
   ]
  },
  {
   "cell_type": "code",
   "execution_count": 15,
   "metadata": {},
   "outputs": [
    {
     "data": {
      "text/plain": [
       "'cw,dy,ef,iw,ji,jv,ka,ob,qv,ry,ua,wt,xz'"
      ]
     },
     "execution_count": 15,
     "metadata": {},
     "output_type": "execute_result"
    }
   ],
   "source": [
    "import itertools\n",
    "nodes_sorted = list(G.nodes())\n",
    "nodes_sorted.sort(key=lambda n : -len(G.edges(n)))\n",
    "max_sub_graph = ['a','b','c']\n",
    "for node in nodes_sorted:\n",
    "    sub_graph = list(G.neighbors(node))+[node]\n",
    "    n = len(sub_graph)\n",
    "    while n>len(max_sub_graph):\n",
    "        for comb_sub_graph in itertools.combinations(sub_graph, n):\n",
    "            if is_complete(comb_sub_graph):\n",
    "                max_sub_graph = comb_sub_graph\n",
    "                break\n",
    "        n-=1\n",
    "max_sub_graph=list(max_sub_graph)\n",
    "max_sub_graph.sort()\n",
    "\",\".join(max_sub_graph)"
   ]
  },
  {
   "cell_type": "code",
   "execution_count": null,
   "metadata": {},
   "outputs": [],
   "source": []
  }
 ],
 "metadata": {
  "kernelspec": {
   "display_name": "Python 3",
   "language": "python",
   "name": "python3"
  },
  "language_info": {
   "codemirror_mode": {
    "name": "ipython",
    "version": 3
   },
   "file_extension": ".py",
   "mimetype": "text/x-python",
   "name": "python",
   "nbconvert_exporter": "python",
   "pygments_lexer": "ipython3",
   "version": "3.8.10"
  }
 },
 "nbformat": 4,
 "nbformat_minor": 5
}
