{
 "cells": [
  {
   "cell_type": "code",
   "execution_count": 1,
   "id": "870bea74",
   "metadata": {},
   "outputs": [
    {
     "data": {
      "application/javascript": [
       "IPython.notebook.kernel.execute('notebook = \"' + IPython.notebook.notebook_name + '\"')\n"
      ],
      "text/plain": [
       "<IPython.core.display.Javascript object>"
      ]
     },
     "metadata": {},
     "output_type": "display_data"
    }
   ],
   "source": [
    "%%javascript\n",
    "IPython.notebook.kernel.execute('notebook = \"' + IPython.notebook.notebook_name + '\"')"
   ]
  },
  {
   "cell_type": "code",
   "execution_count": 2,
   "id": "9f459e28-466b-45ca-a7d1-62eec248d505",
   "metadata": {},
   "outputs": [],
   "source": [
    "notebook=\"12.ipynb\""
   ]
  },
  {
   "cell_type": "code",
   "execution_count": 3,
   "id": "79e33711",
   "metadata": {},
   "outputs": [],
   "source": [
    "import os\n",
    "with open(f'session.secret','r') as f:\n",
    "    SESSION = f\"session={f.read()}\"\n",
    "DAY = notebook.split('.')[0]\n",
    "INPUT_FILE = f\"{DAY}.txt\""
   ]
  },
  {
   "cell_type": "code",
   "execution_count": 32,
   "id": "2241b1cb",
   "metadata": {},
   "outputs": [],
   "source": [
    "# Manual INPUT\n",
    "INPUT =\"\"\"AAAAAA\n",
    "AAABBA\n",
    "AAABBA\n",
    "ABBAAA\n",
    "ABBAAA\n",
    "AAAAAA\"\"\""
   ]
  },
  {
   "cell_type": "code",
   "execution_count": 46,
   "id": "73994e9b",
   "metadata": {},
   "outputs": [],
   "source": [
    "# Automatic INPUT\n",
    "import os.path\n",
    "if not os.path.isfile(INPUT_FILE):\n",
    "    !curl https://adventofcode.com/2024/day/{DAY}/input --cookie {SESSION} > {INPUT_FILE}\n",
    "with open(INPUT_FILE,'r') as f:\n",
    "    INPUT = f.read()"
   ]
  },
  {
   "cell_type": "markdown",
   "id": "d07ee2e1",
   "metadata": {},
   "source": [
    "## Usefull import"
   ]
  },
  {
   "cell_type": "code",
   "execution_count": 47,
   "id": "fb454b4b",
   "metadata": {},
   "outputs": [],
   "source": [
    "import numpy as np\n",
    "#import pandas as pd\n",
    "#import networkx as nx\n",
    "import copy as cp"
   ]
  },
  {
   "cell_type": "markdown",
   "id": "730a68c7",
   "metadata": {},
   "source": [
    "## Part 1"
   ]
  },
  {
   "cell_type": "code",
   "execution_count": 48,
   "id": "5a84f267",
   "metadata": {},
   "outputs": [],
   "source": [
    "a = [[c for c in row] for row in INPUT.strip().split('\\n')]\n",
    "m = lambda i,j: a[i][j] if 0<=i<len(a) and 0<=j<len(a[0]) else '.'"
   ]
  },
  {
   "cell_type": "code",
   "execution_count": 49,
   "id": "998a5086-c7cd-4b40-b9de-414d39386ee9",
   "metadata": {},
   "outputs": [],
   "source": [
    "adjacent = lambda i,j: [(i,j+1),(i+1,j),(i-1,j),(i,j-1)]"
   ]
  },
  {
   "cell_type": "code",
   "execution_count": 50,
   "id": "3a30e8e8-fd82-4629-bfc4-db1a680c3f49",
   "metadata": {},
   "outputs": [],
   "source": [
    "def region(i,j):\n",
    "    c = a[i][j]\n",
    "    region = {(i,j)}\n",
    "    n = [(i,j)]\n",
    "    while len(n)>0:\n",
    "        xi,xj = n.pop()\n",
    "        new_nodes =  [(ni,nj) for ni,nj in  adjacent(xi,xj) if m(ni,nj)==c and (ni,nj) not in region]\n",
    "        region.update(new_nodes)\n",
    "        n+=new_nodes\n",
    "\n",
    "    return region"
   ]
  },
  {
   "cell_type": "code",
   "execution_count": 51,
   "id": "be03c2d4-6fa2-42fd-8acf-9d4a4e829876",
   "metadata": {},
   "outputs": [],
   "source": [
    "r = []\n",
    "visited = set()\n",
    "for i in range(len(a)):\n",
    "    for j in range(len(a[0])):\n",
    "        if (i,j) in visited:\n",
    "            continue\n",
    "        reg = region(i,j)\n",
    "        r+=[reg]\n",
    "        visited |= reg"
   ]
  },
  {
   "cell_type": "code",
   "execution_count": 52,
   "id": "8dfecec5-4f58-4340-a45d-43736e937dbf",
   "metadata": {},
   "outputs": [],
   "source": [
    "def per(reg):\n",
    "    p=0\n",
    "    for i,j in reg:\n",
    "        for di,dj in adjacent(i,j):\n",
    "            if m(i,j)!=m(di,dj):\n",
    "                p+=1\n",
    "    return p"
   ]
  },
  {
   "cell_type": "code",
   "execution_count": 53,
   "id": "10b0d4f4-6365-47cb-9e0b-7f45121abbcc",
   "metadata": {},
   "outputs": [
    {
     "data": {
      "text/plain": [
       "1461752"
      ]
     },
     "execution_count": 53,
     "metadata": {},
     "output_type": "execute_result"
    }
   ],
   "source": [
    "sum([len(reg)*per(reg) for reg in r])"
   ]
  },
  {
   "cell_type": "code",
   "execution_count": 54,
   "id": "f74f82c8-6ced-48cc-b661-3df15cb0bbbf",
   "metadata": {},
   "outputs": [],
   "source": [
    "def is_corner(i,j,reg):\n",
    "    l = len(['1' for di,dj in [(i,j),(i-1,j),(i,j-1),(i-1,j-1)] if (di,dj) in reg])\n",
    "    if l==1 or l==3:\n",
    "        return 1\n",
    "    elif l==2 and  ( \n",
    "        ( (i,j) in reg and (i-1,j-1) in reg) or ((i-1,j) in reg and (i,j-1) in reg)):\n",
    "        return 2\n",
    "    else:\n",
    "        return 0"
   ]
  },
  {
   "cell_type": "code",
   "execution_count": 55,
   "id": "d9bf744d-87c2-41a5-9dba-c1f499e911ff",
   "metadata": {},
   "outputs": [],
   "source": [
    "def side(reg):\n",
    "    corner = set()\n",
    "    for i,j in reg:\n",
    "        for di,dj in [(i,j),(i+1,j),(i,j+1),(i+1,j+1)]:\n",
    "            n_corner = is_corner(di,dj,reg)\n",
    "            if n_corner>0:\n",
    "                corner.add((di,dj))\n",
    "            if n_corner==2:\n",
    "                corner.add((-di,-dj))\n",
    "    return len(corner)"
   ]
  },
  {
   "cell_type": "code",
   "execution_count": 56,
   "id": "8c7d059b-d625-40e0-b5f9-a91361fcac34",
   "metadata": {},
   "outputs": [
    {
     "data": {
      "text/plain": [
       "904114"
      ]
     },
     "execution_count": 56,
     "metadata": {},
     "output_type": "execute_result"
    }
   ],
   "source": [
    "sum([len(reg)*side(reg) for reg in r])"
   ]
  },
  {
   "cell_type": "code",
   "execution_count": null,
   "id": "aa64d62e-a2fb-4b3b-9fdf-49de67eab2a9",
   "metadata": {},
   "outputs": [],
   "source": []
  }
 ],
 "metadata": {
  "kernelspec": {
   "display_name": "Python 3 (ipykernel)",
   "language": "python",
   "name": "python3"
  },
  "language_info": {
   "codemirror_mode": {
    "name": "ipython",
    "version": 3
   },
   "file_extension": ".py",
   "mimetype": "text/x-python",
   "name": "python",
   "nbconvert_exporter": "python",
   "pygments_lexer": "ipython3",
   "version": "3.12.7"
  }
 },
 "nbformat": 4,
 "nbformat_minor": 5
}
