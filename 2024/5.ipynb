{
 "cells": [
  {
   "cell_type": "code",
   "execution_count": 41,
   "id": "d06c4da7",
   "metadata": {},
   "outputs": [
    {
     "data": {
      "application/javascript": [
       "IPython.notebook.kernel.execute('notebook = \"' + IPython.notebook.notebook_name + '\"')\n"
      ],
      "text/plain": [
       "<IPython.core.display.Javascript object>"
      ]
     },
     "metadata": {},
     "output_type": "display_data"
    }
   ],
   "source": [
    "%%javascript\n",
    "IPython.notebook.kernel.execute('notebook = \"' + IPython.notebook.notebook_name + '\"')"
   ]
  },
  {
   "cell_type": "code",
   "execution_count": 42,
   "id": "24f8d115",
   "metadata": {},
   "outputs": [],
   "source": [
    "DAY = notebook.split('.')[0]\n",
    "with open(f'{DAY}.txt','r') as f:\n",
    "    INPUT = f.read()"
   ]
  },
  {
   "cell_type": "code",
   "execution_count": 43,
   "id": "fb454b4b",
   "metadata": {},
   "outputs": [],
   "source": [
    "import numpy as np\n",
    "import pandas as pd\n",
    "import networkx as nx"
   ]
  },
  {
   "cell_type": "code",
   "execution_count": 44,
   "id": "5a84f267",
   "metadata": {},
   "outputs": [],
   "source": [
    "INPUT1,INPUT2 = INPUT.split('\\n\\n')"
   ]
  },
  {
   "cell_type": "code",
   "execution_count": 45,
   "id": "fd7c5a2d",
   "metadata": {},
   "outputs": [],
   "source": [
    "rules = dict()\n",
    "inverse_rule = dict()\n",
    "for r in INPUT1.split('\\n'):\n",
    "    d1,d2 = r.split('|')\n",
    "    if int(d1) not in rules:\n",
    "        rules[int(d1)]=[int(d2)]\n",
    "    else:\n",
    "        rules[int(d1)].append(int(d2))\n",
    "    \n",
    "    if int(d2) not in inverse_rule:\n",
    "        inverse_rule[int(d2)]=[int(d1)]\n",
    "    else:\n",
    "        inverse_rule[int(d2)].append(int(d1))"
   ]
  },
  {
   "cell_type": "code",
   "execution_count": 46,
   "id": "93c37590",
   "metadata": {},
   "outputs": [],
   "source": [
    "lists = [[int(x) for x in l.split(',')] for l in INPUT2.split('\\n')]"
   ]
  },
  {
   "cell_type": "code",
   "execution_count": 47,
   "id": "34309599",
   "metadata": {},
   "outputs": [],
   "source": [
    "def check_valid(l):\n",
    "    cannot_see = set()\n",
    "    for n in l:\n",
    "        if n in cannot_see:\n",
    "            return False\n",
    "        if n in inverse_rule:\n",
    "            cannot_see.update(inverse_rule[n])\n",
    "    return True"
   ]
  },
  {
   "cell_type": "code",
   "execution_count": 48,
   "id": "fa8194aa",
   "metadata": {},
   "outputs": [
    {
     "data": {
      "text/plain": [
       "3608"
      ]
     },
     "execution_count": 48,
     "metadata": {},
     "output_type": "execute_result"
    }
   ],
   "source": [
    "s = 0\n",
    "for l in lists:\n",
    "    if check_valid(l):\n",
    "        s+= l[int(len(l)/2)]\n",
    "s"
   ]
  },
  {
   "cell_type": "markdown",
   "id": "9b9f556b",
   "metadata": {},
   "source": [
    "### part 2"
   ]
  },
  {
   "cell_type": "code",
   "execution_count": 49,
   "id": "307e4ded",
   "metadata": {},
   "outputs": [],
   "source": [
    "i_lists = [l for l in lists if not check_valid(l)]"
   ]
  },
  {
   "cell_type": "code",
   "execution_count": 50,
   "id": "35ffbd6d",
   "metadata": {},
   "outputs": [],
   "source": [
    "def sort_list(l):\n",
    "    cannot_see = dict()\n",
    "    for idx,n in enumerate(l):\n",
    "        if n in cannot_see:\n",
    "            swap = cannot_see[n]\n",
    "            idx_swap = l.index(swap)\n",
    "            l[idx_swap]= n\n",
    "            l[idx] = swap\n",
    "            return sorted_list(l)\n",
    "        if n in inverse_rule:\n",
    "            for dep in inverse_rule[n]:\n",
    "                cannot_see[dep] = n\n",
    "    return l"
   ]
  },
  {
   "cell_type": "code",
   "execution_count": 51,
   "id": "0ad1dbc0",
   "metadata": {},
   "outputs": [
    {
     "data": {
      "text/plain": [
       "4922"
      ]
     },
     "execution_count": 51,
     "metadata": {},
     "output_type": "execute_result"
    }
   ],
   "source": [
    "s = 0\n",
    "for l in i_lists:\n",
    "    sorted_l = sort_list(l)\n",
    "    s+= sorted_l[int(len(sorted_l)/2)]\n",
    "s"
   ]
  },
  {
   "cell_type": "code",
   "execution_count": null,
   "id": "e52af02e",
   "metadata": {},
   "outputs": [],
   "source": []
  }
 ],
 "metadata": {
  "kernelspec": {
   "display_name": "Python 3 (ipykernel)",
   "language": "python",
   "name": "python3"
  },
  "language_info": {
   "codemirror_mode": {
    "name": "ipython",
    "version": 3
   },
   "file_extension": ".py",
   "mimetype": "text/x-python",
   "name": "python",
   "nbconvert_exporter": "python",
   "pygments_lexer": "ipython3",
   "version": "3.9.13"
  }
 },
 "nbformat": 4,
 "nbformat_minor": 5
}
