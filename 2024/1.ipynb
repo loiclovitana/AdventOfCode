{
 "cells": [
  {
   "cell_type": "code",
   "execution_count": 11,
   "id": "870bea74",
   "metadata": {},
   "outputs": [
    {
     "data": {
      "application/javascript": [
       "IPython.notebook.kernel.execute('notebook = \"' + IPython.notebook.notebook_name + '\"')\n"
      ],
      "text/plain": [
       "<IPython.core.display.Javascript object>"
      ]
     },
     "metadata": {},
     "output_type": "display_data"
    }
   ],
   "source": [
    "%%javascript\n",
    "IPython.notebook.kernel.execute('notebook = \"' + IPython.notebook.notebook_name + '\"')"
   ]
  },
  {
   "cell_type": "code",
   "execution_count": 12,
   "id": "74083869",
   "metadata": {},
   "outputs": [],
   "source": [
    "import os\n",
    "with open(f'session.secret','r') as f:\n",
    "    SESSION = f\"session={f.read()}\"\n",
    "DAY = notebook.split('.')[0]\n",
    "INPUT_FILE = f\"{DAY}.txt\""
   ]
  },
  {
   "cell_type": "code",
   "execution_count": null,
   "id": "248496a5",
   "metadata": {},
   "outputs": [],
   "source": [
    "# Manual INPUT\n",
    "INPUT =\"\"\"INPUT\"\"\""
   ]
  },
  {
   "cell_type": "code",
   "execution_count": 14,
   "id": "c2451179",
   "metadata": {},
   "outputs": [
    {
     "name": "stderr",
     "output_type": "stream",
     "text": [
      "  % Total    % Received % Xferd  Average Speed   Time    Time     Time  Current\n",
      "                                 Dload  Upload   Total   Spent    Left  Speed\n",
      "\n",
      "  0     0    0     0    0     0      0      0 --:--:-- --:--:-- --:--:--     0\n",
      "  0     0    0     0    0     0      0      0 --:--:-- --:--:-- --:--:--     0\n",
      "100 14000  100 14000    0     0  31204      0 --:--:-- --:--:-- --:--:-- 31180\n"
     ]
    }
   ],
   "source": [
    "# Automatic INPUT\n",
    "import os.path\n",
    "if not os.path.isfile(INPUT_FILE):\n",
    "    !curl https://adventofcode.com/2024/day/1/input --cookie {SESSION} > {INPUT_FILE}\n",
    "with open(INPUT_FILE,'r') as f:\n",
    "    INPUT = f.read()"
   ]
  },
  {
   "cell_type": "markdown",
   "id": "5ac73651",
   "metadata": {},
   "source": [
    "## some usefull import"
   ]
  },
  {
   "cell_type": "code",
   "execution_count": 15,
   "id": "fb454b4b",
   "metadata": {},
   "outputs": [],
   "source": [
    "import numpy as np\n",
    "import pandas as pd\n",
    "import networkx as nx\n",
    "import copy as cp"
   ]
  },
  {
   "cell_type": "markdown",
   "id": "3ee60bdf",
   "metadata": {},
   "source": [
    "---\n",
    "## Part 1"
   ]
  },
  {
   "cell_type": "code",
   "execution_count": null,
   "id": "898dc6de",
   "metadata": {},
   "outputs": [],
   "source": []
  }
 ],
 "metadata": {
  "kernelspec": {
   "display_name": "Python 3 (ipykernel)",
   "language": "python",
   "name": "python3"
  },
  "language_info": {
   "codemirror_mode": {
    "name": "ipython",
    "version": 3
   },
   "file_extension": ".py",
   "mimetype": "text/x-python",
   "name": "python",
   "nbconvert_exporter": "python",
   "pygments_lexer": "ipython3",
   "version": "3.12.7"
  }
 },
 "nbformat": 4,
 "nbformat_minor": 5
}
