{
 "cells": [
  {
   "cell_type": "code",
   "execution_count": 5,
   "id": "9732ac7b",
   "metadata": {},
   "outputs": [],
   "source": [
    "DAY = \"19\""
   ]
  },
  {
   "cell_type": "code",
   "execution_count": 6,
   "id": "99f78261",
   "metadata": {},
   "outputs": [],
   "source": [
    "import os\n",
    "with open(f'session.secret','r') as f:\n",
    "    SESSION = f\"session={f.read()}\"\n",
    "\n",
    "INPUT_FILE = f\"{DAY}.txt\""
   ]
  },
  {
   "cell_type": "code",
   "execution_count": 27,
   "id": "1df01622",
   "metadata": {},
   "outputs": [],
   "source": [
    "# Manual INPUT\n",
    "INPUT =\"\"\"r, wr, b, g, bwu, rb, gb, br\n",
    "\n",
    "brwrr\n",
    "bggr\n",
    "gbbr\n",
    "rrbgbr\n",
    "ubwu\n",
    "bwurrg\n",
    "brgr\n",
    "bbrgwb\"\"\""
   ]
  },
  {
   "cell_type": "code",
   "execution_count": 44,
   "id": "83fbaad9",
   "metadata": {},
   "outputs": [],
   "source": [
    "# Automatic INPUT\n",
    "import os.path\n",
    "if not os.path.isfile(INPUT_FILE):\n",
    "    !curl https://adventofcode.com/2024/day/{DAY}/input --cookie {SESSION} > {INPUT_FILE}\n",
    "with open(INPUT_FILE,'r') as f:\n",
    "    INPUT = f.read().strip()"
   ]
  },
  {
   "cell_type": "markdown",
   "id": "f8d307b4",
   "metadata": {},
   "source": [
    "## Usefull import"
   ]
  },
  {
   "cell_type": "code",
   "execution_count": 45,
   "id": "632d2a8b",
   "metadata": {},
   "outputs": [],
   "source": [
    "import numpy as np\n",
    "import pandas as pd\n",
    "import networkx as nx\n",
    "import copy as cp\n",
    "import re"
   ]
  },
  {
   "cell_type": "code",
   "execution_count": 46,
   "id": "f217cac4-9a63-42e3-bf8b-3eb83f42b8db",
   "metadata": {},
   "outputs": [],
   "source": [
    "DIR = {(0,1):'>',(1,0):'v',(0,-1):'<',(-1,0):'^'}\n",
    "DIRd = {v:k for k,v in DIR.items()}"
   ]
  },
  {
   "cell_type": "markdown",
   "id": "f4994ba9",
   "metadata": {},
   "source": [
    "## Solution"
   ]
  },
  {
   "cell_type": "code",
   "execution_count": 47,
   "id": "3bd76d5e",
   "metadata": {},
   "outputs": [
    {
     "data": {
      "text/plain": [
       "(8, 447, 400)"
      ]
     },
     "execution_count": 47,
     "metadata": {},
     "output_type": "execute_result"
    }
   ],
   "source": [
    "towels = {x.strip() for x in INPUT.split('\\n\\n')[0].strip().split(',')}\n",
    "todo = [x.strip() for x in INPUT.split('\\n\\n')[1].strip().split('\\n')]\n",
    "M = max([len(t) for t in towels])\n",
    "M, len(towels), len(todo)"
   ]
  },
  {
   "cell_type": "code",
   "execution_count": 48,
   "id": "2d8fdf7c",
   "metadata": {},
   "outputs": [],
   "source": [
    "def is_possible(t):\n",
    "    cache = dict()\n",
    "    def possible_until(end):\n",
    "        if end in cache:\n",
    "            return cache[end]\n",
    "        if end == len(t):\n",
    "            return True\n",
    "        for i in range(1,M+1):\n",
    "            if t[end:end+i] in towels and possible_until(end+i):\n",
    "                cache[end]=True\n",
    "                return True\n",
    "        cache[end]=False\n",
    "        return False\n",
    "    return possible_until(0)"
   ]
  },
  {
   "cell_type": "code",
   "execution_count": 49,
   "id": "15aa2214",
   "metadata": {},
   "outputs": [
    {
     "data": {
      "text/plain": [
       "336"
      ]
     },
     "execution_count": 49,
     "metadata": {},
     "output_type": "execute_result"
    }
   ],
   "source": [
    "len([t for t in todo if is_possible(t)])"
   ]
  },
  {
   "cell_type": "markdown",
   "id": "01c09812",
   "metadata": {},
   "source": [
    "---\n",
    "# 2"
   ]
  },
  {
   "cell_type": "code",
   "execution_count": 50,
   "id": "3c921045",
   "metadata": {},
   "outputs": [],
   "source": [
    "def count_combinaison(t):\n",
    "    cache = dict()\n",
    "    def n_possible(end):\n",
    "        if end in cache:\n",
    "            return cache[end]\n",
    "        if end == len(t):\n",
    "            return 1\n",
    "        n = 0\n",
    "        for i in range(1,M+1):\n",
    "            if t[end:end+i] in towels : \n",
    "                n+=n_possible(end+i)\n",
    "                \n",
    "        cache[end]=n\n",
    "        return n\n",
    "    return n_possible(0)"
   ]
  },
  {
   "cell_type": "code",
   "execution_count": 51,
   "id": "62ce7027",
   "metadata": {},
   "outputs": [
    {
     "data": {
      "text/plain": [
       "758890600222015"
      ]
     },
     "execution_count": 51,
     "metadata": {},
     "output_type": "execute_result"
    }
   ],
   "source": [
    "sum([count_combinaison(t) for t in todo ])"
   ]
  },
  {
   "cell_type": "code",
   "execution_count": null,
   "id": "4ee880a5",
   "metadata": {},
   "outputs": [],
   "source": []
  }
 ],
 "metadata": {
  "kernelspec": {
   "display_name": "Python 3 (ipykernel)",
   "language": "python",
   "name": "python3"
  },
  "language_info": {
   "codemirror_mode": {
    "name": "ipython",
    "version": 3
   },
   "file_extension": ".py",
   "mimetype": "text/x-python",
   "name": "python",
   "nbconvert_exporter": "python",
   "pygments_lexer": "ipython3",
   "version": "3.12.7"
  }
 },
 "nbformat": 4,
 "nbformat_minor": 5
}
