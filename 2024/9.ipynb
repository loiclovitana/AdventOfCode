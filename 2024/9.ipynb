{
 "cells": [
  {
   "cell_type": "code",
   "execution_count": 1,
   "id": "870bea74",
   "metadata": {},
   "outputs": [
    {
     "data": {
      "application/javascript": [
       "IPython.notebook.kernel.execute('notebook = \"' + IPython.notebook.notebook_name + '\"')\n"
      ],
      "text/plain": [
       "<IPython.core.display.Javascript object>"
      ]
     },
     "metadata": {},
     "output_type": "display_data"
    }
   ],
   "source": [
    "%%javascript\n",
    "IPython.notebook.kernel.execute('notebook = \"' + IPython.notebook.notebook_name + '\"')"
   ]
  },
  {
   "cell_type": "code",
   "execution_count": 24,
   "id": "79e33711",
   "metadata": {},
   "outputs": [],
   "source": [
    "DAY = notebook.split('.')[0]\n",
    "with open(f'{DAY}.txt','r') as f:\n",
    "    INPUT = f.read()"
   ]
  },
  {
   "cell_type": "code",
   "execution_count": 20,
   "id": "56eb4438",
   "metadata": {},
   "outputs": [],
   "source": [
    "INPUT=\"\"\"2333133121414131402\"\"\""
   ]
  },
  {
   "cell_type": "code",
   "execution_count": 3,
   "id": "fb454b4b",
   "metadata": {},
   "outputs": [],
   "source": [
    "import numpy as np\n",
    "import pandas as pd\n",
    "import networkx as nx"
   ]
  },
  {
   "cell_type": "markdown",
   "id": "7b6c5132",
   "metadata": {},
   "source": [
    "---\n",
    "## 1"
   ]
  },
  {
   "cell_type": "code",
   "execution_count": 25,
   "id": "5a84f267",
   "metadata": {},
   "outputs": [],
   "source": [
    "disk = []\n",
    "for i,n in enumerate(INPUT):\n",
    "    if i%2==0:\n",
    "        id_= int(i/2)\n",
    "        disk += int(n)*[id_]\n",
    "    else:\n",
    "        disk += int(n)*[-1]"
   ]
  },
  {
   "cell_type": "code",
   "execution_count": 26,
   "id": "1a0be9a9",
   "metadata": {},
   "outputs": [],
   "source": [
    "p1 = 0\n",
    "p2 = len(disk)-1\n",
    "\n",
    "while p1<p2:\n",
    "    if disk[p1]!=-1:\n",
    "        p1+=1\n",
    "        continue\n",
    "    if disk[p2]==-1:\n",
    "        p2-=1\n",
    "        continue\n",
    "    disk[p1],disk[p2] = disk[p2],disk[p1]"
   ]
  },
  {
   "cell_type": "code",
   "execution_count": 29,
   "id": "1510b460",
   "metadata": {},
   "outputs": [
    {
     "data": {
      "text/plain": [
       "6415184586041"
      ]
     },
     "execution_count": 29,
     "metadata": {},
     "output_type": "execute_result"
    }
   ],
   "source": [
    "sum([i*n for i,n in enumerate(disk) if n!=-1])"
   ]
  },
  {
   "cell_type": "markdown",
   "id": "c2c5fd88",
   "metadata": {},
   "source": [
    "---\n",
    "## 2"
   ]
  },
  {
   "cell_type": "code",
   "execution_count": 30,
   "id": "2e008544",
   "metadata": {},
   "outputs": [],
   "source": [
    "disk = []\n",
    "for i,n in enumerate(INPUT):\n",
    "    if i%2==0:\n",
    "        id_= int(i/2)\n",
    "        disk += int(n)*[id_]\n",
    "    else:\n",
    "        disk += int(n)*[-1]"
   ]
  },
  {
   "cell_type": "code",
   "execution_count": 35,
   "id": "a0fc1716",
   "metadata": {},
   "outputs": [],
   "source": [
    "def find_replacement(file_id,size,f_p):\n",
    "    p1 = 0\n",
    "    free = 0\n",
    "    while p1<f_p:\n",
    "        if disk[p1]==-1:\n",
    "            free+=1\n",
    "        else:\n",
    "            free=0\n",
    "        if free==size:\n",
    "            for i in range(size):\n",
    "                disk[p1-i]=file_id\n",
    "                disk[f_p+i]=-1\n",
    "            return\n",
    "        p1+=1"
   ]
  },
  {
   "cell_type": "code",
   "execution_count": 36,
   "id": "4656047a",
   "metadata": {},
   "outputs": [],
   "source": [
    "p1 = 0\n",
    "p2 = len(disk)-1\n",
    "\n",
    "current = -1\n",
    "size = 0\n",
    "while p2>0:\n",
    "    if current == -1 and disk[p2]==-1:\n",
    "        p2-=1\n",
    "        continue\n",
    "        \n",
    "    if current == -1 and disk[p2]!=-1:\n",
    "        current=disk[p2]\n",
    "        size+=1\n",
    "        p2-=1\n",
    "        continue\n",
    "    \n",
    "    if disk[p2]==current:\n",
    "        size+=1\n",
    "        p2-=1\n",
    "        continue\n",
    "    \n",
    "    find_replacement(current,size,p2+1)\n",
    "    \n",
    "    current =-1\n",
    "    size=0\n",
    "    \n",
    "    \n",
    "    "
   ]
  },
  {
   "cell_type": "code",
   "execution_count": 37,
   "id": "7892a135",
   "metadata": {},
   "outputs": [
    {
     "data": {
      "text/plain": [
       "6436819084274"
      ]
     },
     "execution_count": 37,
     "metadata": {},
     "output_type": "execute_result"
    }
   ],
   "source": [
    "sum([i*n for i,n in enumerate(disk) if n!=-1])"
   ]
  },
  {
   "cell_type": "code",
   "execution_count": null,
   "id": "3b902a5e",
   "metadata": {},
   "outputs": [],
   "source": []
  }
 ],
 "metadata": {
  "kernelspec": {
   "display_name": "Python 3 (ipykernel)",
   "language": "python",
   "name": "python3"
  },
  "language_info": {
   "codemirror_mode": {
    "name": "ipython",
    "version": 3
   },
   "file_extension": ".py",
   "mimetype": "text/x-python",
   "name": "python",
   "nbconvert_exporter": "python",
   "pygments_lexer": "ipython3",
   "version": "3.9.13"
  }
 },
 "nbformat": 4,
 "nbformat_minor": 5
}
