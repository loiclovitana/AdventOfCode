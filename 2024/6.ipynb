{
 "cells": [
  {
   "cell_type": "code",
   "execution_count": 1,
   "id": "870bea74",
   "metadata": {},
   "outputs": [
    {
     "data": {
      "application/javascript": [
       "IPython.notebook.kernel.execute('notebook = \"' + IPython.notebook.notebook_name + '\"')\n"
      ],
      "text/plain": [
       "<IPython.core.display.Javascript object>"
      ]
     },
     "metadata": {},
     "output_type": "display_data"
    }
   ],
   "source": [
    "%%javascript\n",
    "IPython.notebook.kernel.execute('notebook = \"' + IPython.notebook.notebook_name + '\"')"
   ]
  },
  {
   "cell_type": "code",
   "execution_count": 84,
   "id": "79e33711",
   "metadata": {},
   "outputs": [],
   "source": [
    "DAY = notebook.split('.')[0]\n",
    "with open(f'{DAY}.txt','r') as f:\n",
    "    INPUT = f.read()"
   ]
  },
  {
   "cell_type": "code",
   "execution_count": 3,
   "id": "fb454b4b",
   "metadata": {},
   "outputs": [],
   "source": [
    "import numpy as np\n",
    "import pandas as pd\n",
    "import networkx as nx"
   ]
  },
  {
   "cell_type": "markdown",
   "id": "50f4cec6",
   "metadata": {},
   "source": [
    "---\n",
    "## 1"
   ]
  },
  {
   "cell_type": "code",
   "execution_count": 38,
   "id": "5a84f267",
   "metadata": {},
   "outputs": [
    {
     "data": {
      "text/plain": [
       "(130, 130)"
      ]
     },
     "execution_count": 38,
     "metadata": {},
     "output_type": "execute_result"
    }
   ],
   "source": [
    "MAP=[[cell for cell in row] for row in INPUT.split('\\n')]\n",
    "DIRECTIONS = [(-1,0),(0,1),(1,0),(0,-1)]\n",
    "SIZE_X = len(MAP)\n",
    "SIZE_Y = len(MAP[0])\n",
    "SIZE_X,SIZE_Y"
   ]
  },
  {
   "cell_type": "code",
   "execution_count": 39,
   "id": "7cb7f29c",
   "metadata": {},
   "outputs": [
    {
     "data": {
      "text/plain": [
       "(0, 33, 56)"
      ]
     },
     "execution_count": 39,
     "metadata": {},
     "output_type": "execute_result"
    }
   ],
   "source": [
    "for i,row in enumerate(MAP):\n",
    "    for j,cell in enumerate(row):\n",
    "        if cell not in '.#':\n",
    "            if cell=='^':\n",
    "                direction = 0\n",
    "            elif cell=='>':\n",
    "                direction = 1\n",
    "            elif cell=='<':\n",
    "                direction = 3\n",
    "            else:\n",
    "                direction = 2\n",
    "            cx,cy = i,j\n",
    "            \n",
    "direction,cx,cy          "
   ]
  },
  {
   "cell_type": "code",
   "execution_count": 40,
   "id": "ff7c69d4",
   "metadata": {},
   "outputs": [],
   "source": [
    "while 0<=cx and cx<SIZE_X and 0<=cy and cy<=SIZE_Y:\n",
    "    MAP[cx][cy] = 'X'\n",
    "    nx = cx + DIRECTIONS[direction][0]\n",
    "    ny = cy + DIRECTIONS[direction][1]\n",
    "    next_cell = MAP[nx][ny] if 0<=nx and nx<SIZE_X and 0<=ny and ny<SIZE_Y else '.'\n",
    "    if next_cell=='#':\n",
    "        direction = (direction+1)%4\n",
    "    else:\n",
    "        cx=nx\n",
    "        cy=ny\n",
    "    "
   ]
  },
  {
   "cell_type": "code",
   "execution_count": 42,
   "id": "768a09f8",
   "metadata": {
    "scrolled": true
   },
   "outputs": [
    {
     "data": {
      "text/plain": [
       "5534"
      ]
     },
     "execution_count": 42,
     "metadata": {},
     "output_type": "execute_result"
    }
   ],
   "source": [
    "s=0\n",
    "for row in MAP:\n",
    "    for cell in row:\n",
    "        if cell=='X':\n",
    "            s+=1\n",
    "s"
   ]
  },
  {
   "cell_type": "markdown",
   "id": "c9a205b6",
   "metadata": {},
   "source": [
    "---\n",
    "## 2"
   ]
  },
  {
   "cell_type": "code",
   "execution_count": 95,
   "id": "f5ac120b",
   "metadata": {},
   "outputs": [
    {
     "data": {
      "text/plain": [
       "(0, 33, 56)"
      ]
     },
     "execution_count": 95,
     "metadata": {},
     "output_type": "execute_result"
    }
   ],
   "source": [
    "MAP=[[cell for cell in row] for row in INPUT.split('\\n')]\n",
    "SIZE_X = len(MAP)\n",
    "SIZE_Y = len(MAP[0])\n",
    "SIZE_X,SIZE_Y\n",
    "for i,row in enumerate(MAP):\n",
    "    for j,cell in enumerate(row):\n",
    "        if cell not in '.#':\n",
    "            if cell=='^':\n",
    "                direction = 0\n",
    "            elif cell=='>':\n",
    "                direction = 1\n",
    "            elif cell=='<':\n",
    "                direction = 3\n",
    "            else:\n",
    "                direction = 2\n",
    "            cx,cy = i,j\n",
    "direction,cx,cy   "
   ]
  },
  {
   "cell_type": "code",
   "execution_count": 96,
   "id": "e3d2e74f",
   "metadata": {},
   "outputs": [],
   "source": [
    "def try_escape(init_x,init_y,init_dir,block_x,block_y):\n",
    "    already_seen = set()\n",
    "    x,y, direc = init_x,init_y,init_dir\n",
    "    while True:\n",
    "        \n",
    "        if (x,y, direc) in already_seen:\n",
    "            return True #stuck in a loop\n",
    "        \n",
    "        already_seen.add((x,y, direc))\n",
    "        \n",
    "        nx = x + DIRECTIONS[direc][0]\n",
    "        ny = y + DIRECTIONS[direc][1]\n",
    "        \n",
    "        if not(0<=nx and nx<SIZE_X and 0<=ny and ny<SIZE_Y):\n",
    "            return False #escaped\n",
    "        next_cell=MAP[nx][ny]\n",
    "        if next_cell=='#' or (nx==block_x and ny==block_y):\n",
    "            direc = (direc+1)%4\n",
    "        else:\n",
    "            x=nx\n",
    "            y=ny\n",
    "    "
   ]
  },
  {
   "cell_type": "code",
   "execution_count": 97,
   "id": "0b6a81a3",
   "metadata": {},
   "outputs": [
    {
     "data": {
      "text/plain": [
       "2262"
      ]
     },
     "execution_count": 97,
     "metadata": {},
     "output_type": "execute_result"
    }
   ],
   "source": [
    "n_block=0\n",
    "\n",
    "for block_x in range(SIZE_X):\n",
    "    for block_y in range(SIZE_Y):\n",
    "        if try_escape(cx,cy,direction,block_x,block_y):\n",
    "            n_block+=1\n",
    "n_block"
   ]
  },
  {
   "cell_type": "code",
   "execution_count": null,
   "id": "8c951ad6",
   "metadata": {},
   "outputs": [],
   "source": []
  }
 ],
 "metadata": {
  "kernelspec": {
   "display_name": "Python 3 (ipykernel)",
   "language": "python",
   "name": "python3"
  },
  "language_info": {
   "codemirror_mode": {
    "name": "ipython",
    "version": 3
   },
   "file_extension": ".py",
   "mimetype": "text/x-python",
   "name": "python",
   "nbconvert_exporter": "python",
   "pygments_lexer": "ipython3",
   "version": "3.9.13"
  }
 },
 "nbformat": 4,
 "nbformat_minor": 5
}
