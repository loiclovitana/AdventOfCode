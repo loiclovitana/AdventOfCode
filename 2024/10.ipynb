{
 "cells": [
  {
   "cell_type": "code",
   "execution_count": 1,
   "id": "870bea74",
   "metadata": {},
   "outputs": [
    {
     "data": {
      "application/javascript": [
       "IPython.notebook.kernel.execute('notebook = \"' + IPython.notebook.notebook_name + '\"')\n"
      ],
      "text/plain": [
       "<IPython.core.display.Javascript object>"
      ]
     },
     "metadata": {},
     "output_type": "display_data"
    }
   ],
   "source": [
    "%%javascript\n",
    "IPython.notebook.kernel.execute('notebook = \"' + IPython.notebook.notebook_name + '\"')"
   ]
  },
  {
   "cell_type": "code",
   "execution_count": 2,
   "id": "79e33711",
   "metadata": {},
   "outputs": [],
   "source": [
    "import os\n",
    "with open(f'session.secret','r') as f:\n",
    "    SESSION = f\"session={f.read()}\"\n",
    "DAY = notebook.split('.')[0]\n",
    "INPUT_FILE = f\"{DAY}.txt\""
   ]
  },
  {
   "cell_type": "code",
   "execution_count": null,
   "id": "2241b1cb",
   "metadata": {},
   "outputs": [],
   "source": [
    "# Manual INPUT\n",
    "INPUT =\"\"\"INPUT\"\"\""
   ]
  },
  {
   "cell_type": "code",
   "execution_count": 5,
   "id": "73994e9b",
   "metadata": {},
   "outputs": [
    {
     "name": "stderr",
     "output_type": "stream",
     "text": [
      "  % Total    % Received % Xferd  Average Speed   Time    Time     Time  Current\n",
      "                                 Dload  Upload   Total   Spent    Left  Speed\n",
      "\n",
      "  0     0    0     0    0     0      0      0 --:--:-- --:--:-- --:--:--     0\n",
      "  0     0    0     0    0     0      0      0 --:--:-- --:--:-- --:--:--     0\n",
      "100  2070  100  2070    0     0   4936      0 --:--:-- --:--:-- --:--:--  4940\n"
     ]
    }
   ],
   "source": [
    "# Automatic INPUT\n",
    "import os.path\n",
    "if not os.path.isfile(INPUT_FILE):\n",
    "    !curl https://adventofcode.com/2024/day/{DAY}/input --cookie {SESSION} > {INPUT_FILE}\n",
    "with open(INPUT_FILE,'r') as f:\n",
    "    INPUT = f.read()"
   ]
  },
  {
   "cell_type": "markdown",
   "id": "d07ee2e1",
   "metadata": {},
   "source": [
    "## Usefull import"
   ]
  },
  {
   "cell_type": "code",
   "execution_count": 3,
   "id": "fb454b4b",
   "metadata": {},
   "outputs": [],
   "source": [
    "import numpy as np\n",
    "import pandas as pd\n",
    "import networkx as nx\n",
    "import copy as cp"
   ]
  },
  {
   "cell_type": "markdown",
   "id": "730a68c7",
   "metadata": {},
   "source": [
    "## Part 1"
   ]
  },
  {
   "cell_type": "code",
   "execution_count": 10,
   "id": "5a84f267",
   "metadata": {},
   "outputs": [],
   "source": [
    "a = [[int(c) for c in x] for x in INPUT.split()]\n",
    "m = lambda i,j: a[i][j] if 0<=i<len(a) and 0<=j<len(a[0]) else -1 "
   ]
  },
  {
   "cell_type": "code",
   "execution_count": 11,
   "id": "159d2bcf",
   "metadata": {},
   "outputs": [],
   "source": [
    "def f(i,j,c):\n",
    "    if c==9:\n",
    "        return set([(i,j)])\n",
    "    s = set()\n",
    "    if m(i,j+1)==c+1:\n",
    "        s|=f(i,j+1,c+1)\n",
    "    if m(i+1,j)==c+1:\n",
    "        s|=f(i+1,j,c+1)\n",
    "    if m(i-1,j)==c+1:\n",
    "        s|=f(i-1,j,c+1)\n",
    "    if m(i,j-1)==c+1:\n",
    "        s|=f(i,j-1,c+1)\n",
    "    return s"
   ]
  },
  {
   "cell_type": "code",
   "execution_count": 12,
   "id": "7933ecc8",
   "metadata": {},
   "outputs": [],
   "source": [
    "s=0\n",
    "for i,r in enumerate(a):\n",
    "    for j,c in enumerate(r):\n",
    "        if c!=0:\n",
    "            continue\n",
    "        s+=len(f(i,j,c))"
   ]
  },
  {
   "cell_type": "code",
   "execution_count": 13,
   "id": "57f37bbd",
   "metadata": {},
   "outputs": [
    {
     "data": {
      "text/plain": [
       "552"
      ]
     },
     "execution_count": 13,
     "metadata": {},
     "output_type": "execute_result"
    }
   ],
   "source": [
    "s"
   ]
  },
  {
   "cell_type": "code",
   "execution_count": 16,
   "id": "0239b7f2",
   "metadata": {},
   "outputs": [],
   "source": [
    "def f(i,j,c):\n",
    "    if c==9:\n",
    "        return [(i,j)]\n",
    "    s = []\n",
    "    if m(i,j+1)==c+1:\n",
    "        s+=f(i,j+1,c+1)\n",
    "    if m(i+1,j)==c+1:\n",
    "        s+=f(i+1,j,c+1)\n",
    "    if m(i-1,j)==c+1:\n",
    "        s+=f(i-1,j,c+1)\n",
    "    if m(i,j-1)==c+1:\n",
    "        s+=f(i,j-1,c+1)\n",
    "    return s"
   ]
  },
  {
   "cell_type": "code",
   "execution_count": 17,
   "id": "2fa4ee97",
   "metadata": {},
   "outputs": [
    {
     "data": {
      "text/plain": [
       "1225"
      ]
     },
     "execution_count": 17,
     "metadata": {},
     "output_type": "execute_result"
    }
   ],
   "source": [
    "s=0\n",
    "for i,r in enumerate(a):\n",
    "    for j,c in enumerate(r):\n",
    "        if c!=0:\n",
    "            continue\n",
    "        s+=len(f(i,j,c))\n",
    "s"
   ]
  },
  {
   "cell_type": "code",
   "execution_count": null,
   "id": "b3d168eb",
   "metadata": {},
   "outputs": [],
   "source": []
  }
 ],
 "metadata": {
  "kernelspec": {
   "display_name": "Python 3 (ipykernel)",
   "language": "python",
   "name": "python3"
  },
  "language_info": {
   "codemirror_mode": {
    "name": "ipython",
    "version": 3
   },
   "file_extension": ".py",
   "mimetype": "text/x-python",
   "name": "python",
   "nbconvert_exporter": "python",
   "pygments_lexer": "ipython3",
   "version": "3.12.7"
  }
 },
 "nbformat": 4,
 "nbformat_minor": 5
}
