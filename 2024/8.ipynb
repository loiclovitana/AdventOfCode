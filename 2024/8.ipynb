{
 "cells": [
  {
   "cell_type": "code",
   "execution_count": 1,
   "id": "870bea74",
   "metadata": {},
   "outputs": [
    {
     "data": {
      "application/javascript": [
       "IPython.notebook.kernel.execute('notebook = \"' + IPython.notebook.notebook_name + '\"')\n"
      ],
      "text/plain": [
       "<IPython.core.display.Javascript object>"
      ]
     },
     "metadata": {},
     "output_type": "display_data"
    }
   ],
   "source": [
    "%%javascript\n",
    "IPython.notebook.kernel.execute('notebook = \"' + IPython.notebook.notebook_name + '\"')"
   ]
  },
  {
   "cell_type": "code",
   "execution_count": 41,
   "id": "79e33711",
   "metadata": {},
   "outputs": [],
   "source": [
    "DAY = notebook.split('.')[0]\n",
    "with open(f'{DAY}.txt','r') as f:\n",
    "    INPUT = f.read()"
   ]
  },
  {
   "cell_type": "code",
   "execution_count": 33,
   "id": "cd3cdfb3",
   "metadata": {},
   "outputs": [],
   "source": [
    "INPUT=\"\"\"............\n",
    "........0...\n",
    ".....0......\n",
    ".......0....\n",
    "....0.......\n",
    "......A.....\n",
    "............\n",
    "............\n",
    "........A...\n",
    ".........A..\n",
    "............\n",
    "............\"\"\""
   ]
  },
  {
   "cell_type": "code",
   "execution_count": 42,
   "id": "fb454b4b",
   "metadata": {},
   "outputs": [],
   "source": [
    "import numpy as np\n",
    "import pandas as pd\n",
    "import networkx as nx"
   ]
  },
  {
   "cell_type": "code",
   "execution_count": 43,
   "id": "5a84f267",
   "metadata": {},
   "outputs": [],
   "source": [
    "antenna = dict()\n",
    "for x, row in enumerate(INPUT.split('\\n')):\n",
    "    for y, letter in enumerate(row):\n",
    "        if letter=='.':\n",
    "            continue\n",
    "        if letter in antenna:\n",
    "            antenna[letter].append((x,y))\n",
    "        else:\n",
    "            antenna[letter] = [(x,y)]"
   ]
  },
  {
   "cell_type": "code",
   "execution_count": 44,
   "id": "07942ac0",
   "metadata": {},
   "outputs": [
    {
     "data": {
      "text/plain": [
       "(50, 50)"
      ]
     },
     "execution_count": 44,
     "metadata": {},
     "output_type": "execute_result"
    }
   ],
   "source": [
    "s1,s2 = len(INPUT.split('\\n')), len(INPUT.split('\\n')[0])\n",
    "s1,s2"
   ]
  },
  {
   "cell_type": "code",
   "execution_count": 29,
   "id": "e9ddbb2b",
   "metadata": {},
   "outputs": [
    {
     "data": {
      "text/plain": [
       "327"
      ]
     },
     "execution_count": 29,
     "metadata": {},
     "output_type": "execute_result"
    }
   ],
   "source": [
    "pos = set()\n",
    "for _,apos in antenna.items():\n",
    "    for a1 in apos:\n",
    "        for a2 in apos:\n",
    "            if a1==a2:\n",
    "                continue\n",
    "            p = (a1[0]+a1[0]-a2[0],a1[1]+a1[1]-a2[1])\n",
    "            \n",
    "            if 0<=p[0]<s1 and 0<=p[1]<s2:\n",
    "                pos.add(p)\n",
    "len(pos)"
   ]
  },
  {
   "cell_type": "markdown",
   "id": "d1319fe4",
   "metadata": {},
   "source": [
    "## 2"
   ]
  },
  {
   "cell_type": "code",
   "execution_count": 37,
   "id": "05e84349",
   "metadata": {},
   "outputs": [],
   "source": [
    "import math"
   ]
  },
  {
   "cell_type": "code",
   "execution_count": 45,
   "id": "0d9547a6",
   "metadata": {},
   "outputs": [
    {
     "data": {
      "text/plain": [
       "1233"
      ]
     },
     "execution_count": 45,
     "metadata": {},
     "output_type": "execute_result"
    }
   ],
   "source": [
    "pos = set()\n",
    "for _,apos in antenna.items():\n",
    "    for a1 in apos:\n",
    "        for a2 in apos:\n",
    "            if a1==a2:\n",
    "                continue\n",
    "            d = (a1[0]-a2[0],a1[1]-a2[1])\n",
    "            simplify = math.gcd(d[0],d[1])\n",
    "            d = d[0]/simplify , d[1]/simplify\n",
    "            for i in range(-max(s1,s2),max(s1,s2)):\n",
    "                p = (a1[0] +i*d[0],a1[1]+i*d[1])\n",
    "                if 0<=p[0]<s1 and 0<=p[1]<s2:\n",
    "                    pos.add(p)\n",
    "                    \n",
    "len(pos)"
   ]
  },
  {
   "cell_type": "code",
   "execution_count": null,
   "id": "ae39e232",
   "metadata": {},
   "outputs": [],
   "source": []
  }
 ],
 "metadata": {
  "kernelspec": {
   "display_name": "Python 3 (ipykernel)",
   "language": "python",
   "name": "python3"
  },
  "language_info": {
   "codemirror_mode": {
    "name": "ipython",
    "version": 3
   },
   "file_extension": ".py",
   "mimetype": "text/x-python",
   "name": "python",
   "nbconvert_exporter": "python",
   "pygments_lexer": "ipython3",
   "version": "3.9.13"
  }
 },
 "nbformat": 4,
 "nbformat_minor": 5
}
