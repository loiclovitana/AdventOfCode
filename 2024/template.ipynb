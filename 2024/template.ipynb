{
 "cells": [
  {
   "cell_type": "code",
   "execution_count": null,
   "id": "9732ac7b",
   "metadata": {},
   "outputs": [],
   "source": [
    "DAY = \"<DAY>\""
   ]
  },
  {
   "cell_type": "code",
   "execution_count": null,
   "id": "99f78261",
   "metadata": {},
   "outputs": [],
   "source": [
    "import os\n",
    "with open(f'session.secret','r') as f:\n",
    "    SESSION = f\"session={f.read()}\"\n",
    "\n",
    "INPUT_FILE = f\"{DAY}.txt\""
   ]
  },
  {
   "cell_type": "code",
   "execution_count": null,
   "id": "1df01622",
   "metadata": {},
   "outputs": [],
   "source": [
    "# Manual INPUT\n",
    "INPUT =\"\"\"INPUT\"\"\""
   ]
  },
  {
   "cell_type": "code",
   "execution_count": null,
   "id": "83fbaad9",
   "metadata": {},
   "outputs": [],
   "source": [
    "# Automatic INPUT\n",
    "import os.path\n",
    "if not os.path.isfile(INPUT_FILE):\n",
    "    !curl https://adventofcode.com/2024/day/{DAY}/input --cookie {SESSION} > {INPUT_FILE}\n",
    "with open(INPUT_FILE,'r') as f:\n",
    "    INPUT = f.read().strip()"
   ]
  },
  {
   "cell_type": "markdown",
   "id": "f8d307b4",
   "metadata": {},
   "source": [
    "## Usefull import"
   ]
  },
  {
   "cell_type": "code",
   "execution_count": null,
   "id": "632d2a8b",
   "metadata": {},
   "outputs": [],
   "source": [
    "import numpy as np\n",
    "import pandas as pd\n",
    "import networkx as nx\n",
    "import copy as cp\n",
    "import re"
   ]
  },
  {
   "cell_type": "code",
   "execution_count": null,
   "id": "f217cac4-9a63-42e3-bf8b-3eb83f42b8db",
   "metadata": {},
   "outputs": [],
   "source": [
    "DIR = {(0,1):'>',(1,0):'v',(0,-1):'<',(-1,0):'^'}\n",
    "DIRd = {v:k for k,v in DIR.items()}"
   ]
  },
  {
   "cell_type": "markdown",
   "id": "f4994ba9",
   "metadata": {},
   "source": [
    "## Solution"
   ]
  },
  {
   "cell_type": "code",
   "execution_count": null,
   "id": "3bd76d5e",
   "metadata": {},
   "outputs": [],
   "source": []
  }
 ],
 "metadata": {
  "kernelspec": {
   "display_name": "Python 3 (ipykernel)",
   "language": "python",
   "name": "python3"
  },
  "language_info": {
   "codemirror_mode": {
    "name": "ipython",
    "version": 3
   },
   "file_extension": ".py",
   "mimetype": "text/x-python",
   "name": "python",
   "nbconvert_exporter": "python",
   "pygments_lexer": "ipython3",
   "version": "3.12.7"
  }
 },
 "nbformat": 4,
 "nbformat_minor": 5
}
