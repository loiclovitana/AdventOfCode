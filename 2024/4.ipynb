{
 "cells": [
  {
   "cell_type": "code",
   "execution_count": 3,
   "id": "f416f26e",
   "metadata": {},
   "outputs": [
    {
     "data": {
      "application/javascript": [
       "IPython.notebook.kernel.execute('notebook = \"' + IPython.notebook.notebook_name + '\"')\n"
      ],
      "text/plain": [
       "<IPython.core.display.Javascript object>"
      ]
     },
     "metadata": {},
     "output_type": "display_data"
    }
   ],
   "source": [
    "%%javascript\n",
    "IPython.notebook.kernel.execute('notebook = \"' + IPython.notebook.notebook_name + '\"')"
   ]
  },
  {
   "cell_type": "code",
   "execution_count": 4,
   "id": "8e16ced7",
   "metadata": {},
   "outputs": [],
   "source": [
    "DAY = notebook.split('.')[0]\n",
    "with open(f'{DAY}.txt','r') as f:\n",
    "    INPUT = f.read()"
   ]
  },
  {
   "cell_type": "code",
   "execution_count": 2,
   "id": "fb454b4b",
   "metadata": {},
   "outputs": [],
   "source": [
    "import numpy as np\n",
    "import pandas as pd\n",
    "import networkx as nx"
   ]
  },
  {
   "cell_type": "code",
   "execution_count": 22,
   "id": "0483a3e5",
   "metadata": {},
   "outputs": [],
   "source": [
    "GRID = INPUT.split('\\n')"
   ]
  },
  {
   "cell_type": "code",
   "execution_count": 23,
   "id": "d4fc47b3",
   "metadata": {},
   "outputs": [
    {
     "data": {
      "text/plain": [
       "(140, 140)"
      ]
     },
     "execution_count": 23,
     "metadata": {},
     "output_type": "execute_result"
    }
   ],
   "source": [
    "MAX_LEN = len(GRID[0])\n",
    "len(GRID),MAX_LEN"
   ]
  },
  {
   "cell_type": "code",
   "execution_count": 24,
   "id": "5a84f267",
   "metadata": {},
   "outputs": [],
   "source": [
    "def check(letter,i,j):\n",
    "    if i<0 or i>=len(GRID):\n",
    "        return False\n",
    "    if j<0 or j>=MAX_LEN:\n",
    "        return False\n",
    "    return letter==GRID[i][j]"
   ]
  },
  {
   "cell_type": "code",
   "execution_count": 25,
   "id": "281513ac",
   "metadata": {},
   "outputs": [
    {
     "data": {
      "text/plain": [
       "True"
      ]
     },
     "execution_count": 25,
     "metadata": {},
     "output_type": "execute_result"
    }
   ],
   "source": [
    "check('X',139,0)"
   ]
  },
  {
   "cell_type": "code",
   "execution_count": 28,
   "id": "d34d12bd",
   "metadata": {},
   "outputs": [],
   "source": [
    "XMAS='XMAS'\n",
    "DIRECTION = [(0,1),(1,1),(1,0),(1,-1),(0,-1),(-1,-1),(-1,0),(-1,1)]\n",
    "def check_xmas(i,j):\n",
    "    if GRID[i][j]!='X':\n",
    "        return 0\n",
    "    c_xmas = 0\n",
    "    for di,dj in DIRECTION:\n",
    "        ok = check('M',i+di,j+dj)\n",
    "        ok = ok and check('A',i+di*2,j+dj*2)\n",
    "        ok = ok and check('S',i+di*3,j+dj*3)\n",
    "        if ok:\n",
    "            c_xmas+=1\n",
    "    return c_xmas"
   ]
  },
  {
   "cell_type": "code",
   "execution_count": 30,
   "id": "15934d3d",
   "metadata": {},
   "outputs": [
    {
     "data": {
      "text/plain": [
       "2500"
      ]
     },
     "execution_count": 30,
     "metadata": {},
     "output_type": "execute_result"
    }
   ],
   "source": [
    "c = 0\n",
    "for i in range(len(GRID)):\n",
    "    for j in range(MAX_LEN):\n",
    "        c+= check_xmas(i,j)\n",
    "        \n",
    "c    "
   ]
  },
  {
   "cell_type": "code",
   "execution_count": 32,
   "id": "118a4c85",
   "metadata": {},
   "outputs": [],
   "source": [
    "\n",
    "def check_x_mas(i,j):\n",
    "    if GRID[i][j]!='A':\n",
    "        return 0\n",
    "    d1 = check('M',i-1,j-1) and check('S',i+1,j+1)\n",
    "    d1 = d1 or (check('S',i-1,j-1) and check('M',i+1,j+1))\n",
    "    \n",
    "    d2 = check('M',i+1,j-1) and check('S',i-1,j+1)\n",
    "    d2 = d2 or (check('S',i+1,j-1) and check('M',i-1,j+1))\n",
    "    if d1 and d2:\n",
    "        return 1\n",
    "    else:\n",
    "        return 0"
   ]
  },
  {
   "cell_type": "code",
   "execution_count": 33,
   "id": "391417ac",
   "metadata": {},
   "outputs": [
    {
     "data": {
      "text/plain": [
       "1933"
      ]
     },
     "execution_count": 33,
     "metadata": {},
     "output_type": "execute_result"
    }
   ],
   "source": [
    "c = 0\n",
    "for i in range(len(GRID)):\n",
    "    for j in range(MAX_LEN):\n",
    "        c+= check_x_mas(i,j)\n",
    "        \n",
    "c    "
   ]
  },
  {
   "cell_type": "code",
   "execution_count": null,
   "id": "65137232",
   "metadata": {},
   "outputs": [],
   "source": []
  }
 ],
 "metadata": {
  "kernelspec": {
   "display_name": "Python 3 (ipykernel)",
   "language": "python",
   "name": "python3"
  },
  "language_info": {
   "codemirror_mode": {
    "name": "ipython",
    "version": 3
   },
   "file_extension": ".py",
   "mimetype": "text/x-python",
   "name": "python",
   "nbconvert_exporter": "python",
   "pygments_lexer": "ipython3",
   "version": "3.9.13"
  }
 },
 "nbformat": 4,
 "nbformat_minor": 5
}
