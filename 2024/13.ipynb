{
 "cells": [
  {
   "cell_type": "code",
   "execution_count": 7,
   "id": "76d8ba46",
   "metadata": {},
   "outputs": [],
   "source": [
    "notebook='13.ipynb'"
   ]
  },
  {
   "cell_type": "code",
   "execution_count": 8,
   "id": "98f222d1",
   "metadata": {},
   "outputs": [],
   "source": [
    "import os\n",
    "with open(f'session.secret','r') as f:\n",
    "    SESSION = f\"session={f.read()}\"\n",
    "DAY = notebook.split('.')[0]\n",
    "INPUT_FILE = f\"{DAY}.txt\""
   ]
  },
  {
   "cell_type": "code",
   "execution_count": 201,
   "id": "5e6712c0",
   "metadata": {},
   "outputs": [],
   "source": [
    "# Manual INPUT\n",
    "INPUT =\"\"\"Button A: X+94, Y+34\n",
    "Button B: X+22, Y+67\n",
    "Prize: X=8400, Y=5400\n",
    "\n",
    "Button A: X+26, Y+66\n",
    "Button B: X+67, Y+21\n",
    "Prize: X=12748, Y=12176\n",
    "\n",
    "Button A: X+17, Y+86\n",
    "Button B: X+84, Y+37\n",
    "Prize: X=7870, Y=6450\n",
    "\n",
    "Button A: X+69, Y+23\n",
    "Button B: X+27, Y+71\n",
    "Prize: X=18641, Y=10279\"\"\""
   ]
  },
  {
   "cell_type": "code",
   "execution_count": 207,
   "id": "3552ace2",
   "metadata": {},
   "outputs": [],
   "source": [
    "# Automatic INPUT\n",
    "import os.path\n",
    "if not os.path.isfile(INPUT_FILE):\n",
    "    !curl https://adventofcode.com/2024/day/{DAY}/input --cookie {SESSION} > {INPUT_FILE}\n",
    "with open(INPUT_FILE,'r') as f:\n",
    "    INPUT = f.read().strip()"
   ]
  },
  {
   "cell_type": "markdown",
   "id": "65ac3c90",
   "metadata": {},
   "source": [
    "## Usefull import"
   ]
  },
  {
   "cell_type": "code",
   "execution_count": 179,
   "id": "8351590b",
   "metadata": {},
   "outputs": [],
   "source": [
    "import numpy as np\n",
    "import pandas as pd\n",
    "import networkx as nx\n",
    "import copy as cp"
   ]
  },
  {
   "cell_type": "markdown",
   "id": "a64ae46c",
   "metadata": {},
   "source": [
    "## Part 1"
   ]
  },
  {
   "cell_type": "code",
   "execution_count": 258,
   "id": "ebf334a1",
   "metadata": {},
   "outputs": [],
   "source": [
    "import re\n",
    "a = re.findall(r'Button A: X\\+([0-9]+), Y\\+([0-9]+)\\nButton B: X\\+([0-9]+), Y\\+([0-9]+)\\nPrize: X=([0-9]+), Y=([0-9]+)',INPUT)\n",
    "a = [[int(n) for n in x] for x in a]\n",
    "a = [(np.array([[x1,y1],[x2,y2]]).astype(np.int64),np.array([c1,c2])) for x1,x2,y1,y2,c1,c2 in a]"
   ]
  },
  {
   "cell_type": "code",
   "execution_count": 237,
   "id": "86175671-e854-4101-9347-65b01b621454",
   "metadata": {},
   "outputs": [],
   "source": [
    "cost = np.array([[3,0],[0,1]])"
   ]
  },
  {
   "cell_type": "code",
   "execution_count": 263,
   "id": "8c0554e2-a774-41bd-8a0f-0868be13aec1",
   "metadata": {},
   "outputs": [
    {
     "data": {
      "text/plain": [
       "36250"
      ]
     },
     "execution_count": 263,
     "metadata": {},
     "output_type": "execute_result"
    }
   ],
   "source": [
    "sol = [np.linalg.solve(W,v).round().astype(int) for W,v in a]\n",
    "sum([int(sum(cost@s)) for (W,v),s  in zip(a,sol) if (W@s== v).all() and (s<=100).all() and (s>=0).all()  ] )"
   ]
  },
  {
   "cell_type": "code",
   "execution_count": 264,
   "id": "632ca61d-22e9-496d-853b-6cc744314d92",
   "metadata": {},
   "outputs": [
    {
     "data": {
      "text/plain": [
       "36250"
      ]
     },
     "execution_count": 264,
     "metadata": {},
     "output_type": "execute_result"
    }
   ],
   "source": [
    "sol = [ (np.linalg.inv(W)@v).round().astype(int) for W,v in a]\n",
    "sum([int(sum(cost@s)) for (W,v),s  in zip(a,sol) if (W@s== v).all() and (s<=100).all() and (s>=0).all()] )"
   ]
  },
  {
   "cell_type": "markdown",
   "id": "7a989820-1116-449a-ba4c-8b28ba53dd94",
   "metadata": {},
   "source": [
    "## Used solution (not using numpy since I had problem of precision)"
   ]
  },
  {
   "cell_type": "code",
   "execution_count": 261,
   "id": "ec129538-27fc-4c7d-b4f3-0f8d16784429",
   "metadata": {},
   "outputs": [
    {
     "data": {
      "text/plain": [
       "36250"
      ]
     },
     "execution_count": 261,
     "metadata": {},
     "output_type": "execute_result"
    }
   ],
   "source": [
    "a = re.findall(r'Button A: X\\+([0-9]+), Y\\+([0-9]+)\\nButton B: X\\+([0-9]+), Y\\+([0-9]+)\\nPrize: X=([0-9]+), Y=([0-9]+)',INPUT)\n",
    "a = [[int(n) for n in x] for x in a]\n",
    "bs = [int((c*d-a_*f)/(b*d-a_*e)) for a_,d,b,e,c,f in a]\n",
    "sol = [ np.array([(c-b*y)/a,y]) for (a,d,b,e,c,f),y  in zip(a,bs)]\n",
    "a = [(np.array([[x1,y1],[x2,y2]]),np.array([c1,c2])) for x1,x2,y1,y2,c1,c2 in a]\n",
    "sum([int(sum(cost@s)) for (W,v),s  in zip(a,sol) if (W@s== v).all() and (s<=100).all() and (s>=0).all()  ] )"
   ]
  },
  {
   "cell_type": "markdown",
   "id": "e2f89039-ea10-4db6-9f56-f4ac49e06570",
   "metadata": {},
   "source": [
    "## part 2"
   ]
  },
  {
   "cell_type": "code",
   "execution_count": 200,
   "id": "37d36231-cf69-4a6b-a99e-4f3fa40040d8",
   "metadata": {},
   "outputs": [
    {
     "data": {
      "text/plain": [
       "83232379451012"
      ]
     },
     "execution_count": 200,
     "metadata": {},
     "output_type": "execute_result"
    }
   ],
   "source": [
    "a = re.findall(r'Button A: X\\+([0-9]+), Y\\+([0-9]+)\\nButton B: X\\+([0-9]+), Y\\+([0-9]+)\\nPrize: X=([0-9]+), Y=([0-9]+)',INPUT)\n",
    "a = [[int(n) for n in x] for x in a]\n",
    "a = [ (a_,d,b,e,c+10000000000000,f+10000000000000 )  for a_,d,b,e,c,f in a]\n",
    "bs = [int((c*d-a_*f)/(b*d-a_*e)) for a_,d,b,e,c,f in a]\n",
    "sol = [ (int((c-b*y)/a_),y) for (a_,d,b,e,c,f),y  in zip(a,bs)]\n",
    "sum([ 3*x + y for (a_,d,b,e,c,f), (x,y) in zip(a,sol) if a_*x+b*y==c and d*x +e*y==f and x>=0 and y>=0 ] )"
   ]
  },
  {
   "cell_type": "markdown",
   "id": "60f29e9b-1271-469f-a6df-96ee2cb73342",
   "metadata": {},
   "source": [
    "### corrected"
   ]
  },
  {
   "cell_type": "code",
   "execution_count": 269,
   "id": "3e7f8491-d080-4ac1-bb53-3c8c6014e8f4",
   "metadata": {},
   "outputs": [],
   "source": [
    "import re\n",
    "a = re.findall(r'Button A: X\\+([0-9]+), Y\\+([0-9]+)\\nButton B: X\\+([0-9]+), Y\\+([0-9]+)\\nPrize: X=([0-9]+), Y=([0-9]+)',INPUT)\n",
    "a = [[int(n) for n in x] for x in a]\n",
    "a = [(np.array([[x1,y1],[x2,y2]]),np.array([c1+10000000000000,c2+10000000000000])) for x1,x2,y1,y2,c1,c2 in a]"
   ]
  },
  {
   "cell_type": "code",
   "execution_count": 271,
   "id": "becd057d-5779-4787-88fb-20135f3fa01d",
   "metadata": {},
   "outputs": [
    {
     "data": {
      "text/plain": [
       "83232379451012"
      ]
     },
     "execution_count": 271,
     "metadata": {},
     "output_type": "execute_result"
    }
   ],
   "source": [
    "sol = [np.linalg.solve(W,v).round().astype(int) for W,v in a]\n",
    "sum([int(sum(cost@s)) for (W,v),s  in zip(a,sol) if (W@s== v).all()  ] )"
   ]
  },
  {
   "cell_type": "code",
   "execution_count": null,
   "id": "456fefe6-9e12-43f9-9d41-ab957958c466",
   "metadata": {},
   "outputs": [],
   "source": []
  }
 ],
 "metadata": {
  "kernelspec": {
   "display_name": "Python 3 (ipykernel)",
   "language": "python",
   "name": "python3"
  },
  "language_info": {
   "codemirror_mode": {
    "name": "ipython",
    "version": 3
   },
   "file_extension": ".py",
   "mimetype": "text/x-python",
   "name": "python",
   "nbconvert_exporter": "python",
   "pygments_lexer": "ipython3",
   "version": "3.12.7"
  }
 },
 "nbformat": 4,
 "nbformat_minor": 5
}
