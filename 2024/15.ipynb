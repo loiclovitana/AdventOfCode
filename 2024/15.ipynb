{
 "cells": [
  {
   "cell_type": "code",
   "execution_count": 1,
   "id": "88e224a1",
   "metadata": {},
   "outputs": [
    {
     "data": {
      "application/javascript": [
       "IPython.notebook.kernel.execute('notebook = \"' + IPython.notebook.notebook_name + '\"')\n"
      ],
      "text/plain": [
       "<IPython.core.display.Javascript object>"
      ]
     },
     "metadata": {},
     "output_type": "display_data"
    }
   ],
   "source": [
    "%%javascript\n",
    "IPython.notebook.kernel.execute('notebook = \"' + IPython.notebook.notebook_name + '\"')"
   ]
  },
  {
   "cell_type": "code",
   "execution_count": 2,
   "id": "958c1c40",
   "metadata": {},
   "outputs": [],
   "source": [
    "import os\n",
    "with open(f'session.secret','r') as f:\n",
    "    SESSION = f\"session={f.read()}\"\n",
    "DAY = notebook.split('.')[0]\n",
    "INPUT_FILE = f\"{DAY}.txt\""
   ]
  },
  {
   "cell_type": "code",
   "execution_count": 3,
   "id": "50d36ffd",
   "metadata": {},
   "outputs": [],
   "source": [
    "# Manual INPUT\n",
    "INPUT =\"\"\"INPUT\"\"\""
   ]
  },
  {
   "cell_type": "code",
   "execution_count": 4,
   "id": "a77b27e5",
   "metadata": {},
   "outputs": [
    {
     "name": "stdout",
     "output_type": "stream",
     "text": [
      "  % Total    % Received % Xferd  Average Speed   Time    Time     Time  Current\n",
      "                                 Dload  Upload   Total   Spent    Left  Speed\n",
      "100 22571  100 22571    0     0  56997      0 --:--:-- --:--:-- --:--:-- 56853\n"
     ]
    }
   ],
   "source": [
    "# Automatic INPUT\n",
    "import os.path\n",
    "if not os.path.isfile(INPUT_FILE):\n",
    "    !curl https://adventofcode.com/2024/day/{DAY}/input --cookie {SESSION} > {INPUT_FILE}\n",
    "with open(INPUT_FILE,'r') as f:\n",
    "    INPUT = f.read().strip()"
   ]
  },
  {
   "cell_type": "markdown",
   "id": "d03fe8e2",
   "metadata": {},
   "source": [
    "## Usefull import"
   ]
  },
  {
   "cell_type": "code",
   "execution_count": 5,
   "id": "b125f9e8",
   "metadata": {},
   "outputs": [],
   "source": [
    "import numpy as np\n",
    "import pandas as pd\n",
    "import networkx as nx\n",
    "import copy as cp\n",
    "import re"
   ]
  },
  {
   "cell_type": "markdown",
   "id": "b26ac61d",
   "metadata": {},
   "source": [
    "## Part 1"
   ]
  },
  {
   "cell_type": "code",
   "execution_count": 28,
   "id": "aba4afb7",
   "metadata": {},
   "outputs": [],
   "source": [
    "wall = set()\n",
    "box = set()\n",
    "robot = (-1,-1)\n",
    "for x,row in enumerate(INPUT.split('\\n\\n')[0].strip().split('\\n')):\n",
    "    for y,c in enumerate(row):\n",
    "        if c=='#':\n",
    "            wall.add((x,y))\n",
    "        if c=='@':\n",
    "            robot=x,y\n",
    "        if c=='O':\n",
    "            box.add((x,y))"
   ]
  },
  {
   "cell_type": "code",
   "execution_count": 29,
   "id": "eff0e676",
   "metadata": {},
   "outputs": [],
   "source": [
    "moves = INPUT.split('\\n\\n')[1].strip()\n",
    "dxy = {'<':(0,-1),'>':(0,1),'^':(-1,0),'v':(1,0)}"
   ]
  },
  {
   "cell_type": "code",
   "execution_count": 30,
   "id": "ea89e4a0",
   "metadata": {},
   "outputs": [],
   "source": [
    "def moveto(dx,dy,x,y):\n",
    "    nx,ny = x+dx, y+dy\n",
    "    if (x,y) in wall:\n",
    "        return False\n",
    "    if (x,y) in box:\n",
    "        canmove= moveto(dx,dy,nx,ny)\n",
    "        \n",
    "        if canmove:\n",
    "            box.remove((x,y))\n",
    "            box.add((nx,ny))\n",
    "        \n",
    "        return canmove\n",
    "\n",
    "    return True\n",
    "            "
   ]
  },
  {
   "cell_type": "code",
   "execution_count": 31,
   "id": "d5f11bd2",
   "metadata": {},
   "outputs": [
    {
     "data": {
      "text/plain": [
       "1499739"
      ]
     },
     "execution_count": 31,
     "metadata": {},
     "output_type": "execute_result"
    }
   ],
   "source": [
    "for move in moves:\n",
    "    if move not in dxy:\n",
    "        continue\n",
    "    dx,dy = dxy[move]\n",
    "    nx,ny = robot[0]+dx, robot[1]+dy\n",
    "    if moveto(dx,dy,nx,ny):\n",
    "        robot = nx,ny\n",
    "sum([100*bx+by for bx,by in box])"
   ]
  },
  {
   "cell_type": "markdown",
   "id": "01eede5d",
   "metadata": {},
   "source": [
    "## Part 2\n",
    "    "
   ]
  },
  {
   "cell_type": "code",
   "execution_count": 41,
   "id": "d954892e",
   "metadata": {},
   "outputs": [],
   "source": [
    "new_input=INPUT.replace('#','##').replace('.','..').replace('O','O.').replace('@','@.')\n",
    "wall = set()\n",
    "box = set()\n",
    "robot = (-1,-1)\n",
    "for x,row in enumerate(new_input.split('\\n\\n')[0].strip().split('\\n')):\n",
    "    for y,c in enumerate(row):\n",
    "        if c=='#':\n",
    "            wall.add((x,y))\n",
    "        if c=='@':\n",
    "            robot=x,y\n",
    "        if c=='O':\n",
    "            box.add((x,y))"
   ]
  },
  {
   "cell_type": "code",
   "execution_count": 42,
   "id": "4c730ce0",
   "metadata": {},
   "outputs": [],
   "source": [
    "def can_move(dx,dy,x,y):\n",
    "    \n",
    "    if (x,y) in wall:\n",
    "        return False,set()\n",
    "    if dy==-1 and (x,y-1) in box:\n",
    "        cm,mb = can_move(dx,dy,x,y-2)\n",
    "        return cm,mb | {(x,y-1)}\n",
    "    elif dy==1 and (x,y) in box:\n",
    "        cm,mb = can_move(dx,dy,x,y+2)\n",
    "        return cm,mb | {(x,y)}\n",
    "    elif dy==0 and (x,y) in box :\n",
    "        cm,mb =  can_move(dx,dy,x+dx,y) \n",
    "        cm2,mb2 = can_move(dx,dy,x+dx,y+1)\n",
    "        return cm and cm2, mb | mb2 | {(x,y)}\n",
    "        \n",
    "    elif dy==0 and (x,y-1) in box :\n",
    "        cm,mb = can_move(dx,dy,x+dx,y) \n",
    "        cm2,mb2 =can_move(dx,dy,x+dx,y-1)\n",
    "        return cm and cm2, mb | mb2 | {(x,y-1)}\n",
    "\n",
    "    return True,set()"
   ]
  },
  {
   "cell_type": "code",
   "execution_count": 43,
   "id": "aa5142ae",
   "metadata": {},
   "outputs": [
    {
     "data": {
      "text/plain": [
       "1522215"
      ]
     },
     "execution_count": 43,
     "metadata": {},
     "output_type": "execute_result"
    }
   ],
   "source": [
    "for move in moves:\n",
    "    if move not in dxy:\n",
    "        continue\n",
    "    dx,dy = dxy[move]\n",
    "    nx,ny = robot[0]+dx, robot[1]+dy\n",
    "    cm,moving_boxes =  can_move(dx,dy,nx,ny)\n",
    "    if cm:\n",
    "        robot = nx,ny\n",
    "        for b in moving_boxes:\n",
    "            box.remove(b)\n",
    "        for bx,by in moving_boxes:\n",
    "            box.add((bx+dx,by+dy))\n",
    "            \n",
    "sum([100*bx+by for bx,by in box])"
   ]
  },
  {
   "cell_type": "code",
   "execution_count": null,
   "id": "615f6f33",
   "metadata": {},
   "outputs": [],
   "source": []
  }
 ],
 "metadata": {
  "kernelspec": {
   "display_name": "Python 3 (ipykernel)",
   "language": "python",
   "name": "python3"
  },
  "language_info": {
   "codemirror_mode": {
    "name": "ipython",
    "version": 3
   },
   "file_extension": ".py",
   "mimetype": "text/x-python",
   "name": "python",
   "nbconvert_exporter": "python",
   "pygments_lexer": "ipython3",
   "version": "3.12.7"
  }
 },
 "nbformat": 4,
 "nbformat_minor": 5
}
