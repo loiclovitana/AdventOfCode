{
 "cells": [
  {
   "cell_type": "code",
   "execution_count": 1,
   "id": "9732ac7b",
   "metadata": {},
   "outputs": [],
   "source": [
    "DAY = \"18\""
   ]
  },
  {
   "cell_type": "code",
   "execution_count": 2,
   "id": "99f78261",
   "metadata": {},
   "outputs": [],
   "source": [
    "import os\n",
    "with open(f'session.secret','r') as f:\n",
    "    SESSION = f\"session={f.read()}\"\n",
    "\n",
    "INPUT_FILE = f\"{DAY}.txt\""
   ]
  },
  {
   "cell_type": "code",
   "execution_count": 23,
   "id": "1df01622",
   "metadata": {},
   "outputs": [],
   "source": [
    "# Manual INPUT\n",
    "INPUT =\"\"\"5,4\n",
    "4,2\n",
    "4,5\n",
    "3,0\n",
    "2,1\n",
    "6,3\n",
    "2,4\n",
    "1,5\n",
    "0,6\n",
    "3,3\n",
    "2,6\n",
    "5,1\n",
    "1,2\n",
    "5,5\n",
    "2,5\n",
    "6,5\n",
    "1,4\n",
    "0,4\n",
    "6,4\n",
    "1,1\n",
    "6,1\n",
    "1,0\n",
    "0,5\n",
    "1,6\n",
    "2,0\"\"\"\n",
    "SX,SY = 7,7\n",
    "LIMIT=12"
   ]
  },
  {
   "cell_type": "code",
   "execution_count": 34,
   "id": "83fbaad9",
   "metadata": {},
   "outputs": [],
   "source": [
    "# Automatic INPUT\n",
    "import os.path\n",
    "if not os.path.isfile(INPUT_FILE):\n",
    "    !curl https://adventofcode.com/2024/day/{DAY}/input --cookie {SESSION} > {INPUT_FILE}\n",
    "with open(INPUT_FILE,'r') as f:\n",
    "    INPUT = f.read().strip()\n",
    "SX,SY = 71,71\n",
    "LIMIT = 1024"
   ]
  },
  {
   "cell_type": "markdown",
   "id": "f8d307b4",
   "metadata": {},
   "source": [
    "## Usefull import"
   ]
  },
  {
   "cell_type": "code",
   "execution_count": 4,
   "id": "632d2a8b",
   "metadata": {},
   "outputs": [],
   "source": [
    "import numpy as np\n",
    "import pandas as pd\n",
    "import networkx as nx\n",
    "import copy as cp\n",
    "import re"
   ]
  },
  {
   "cell_type": "code",
   "execution_count": 5,
   "id": "f217cac4-9a63-42e3-bf8b-3eb83f42b8db",
   "metadata": {},
   "outputs": [],
   "source": [
    "DIR = {(0,1):'>',(1,0):'v',(0,-1):'<',(-1,0):'^'}\n",
    "DIRd = {v:k for k,v in DIR.items()}"
   ]
  },
  {
   "cell_type": "markdown",
   "id": "f4994ba9",
   "metadata": {},
   "source": [
    "## Solution"
   ]
  },
  {
   "cell_type": "code",
   "execution_count": 35,
   "id": "3bd76d5e",
   "metadata": {},
   "outputs": [],
   "source": [
    "corrupted = [tuple([int(x) for x in l.split(',')]) for l in INPUT.split('\\n')]"
   ]
  },
  {
   "cell_type": "code",
   "execution_count": 36,
   "id": "982a6404-8989-4689-a938-bd7f92a7942d",
   "metadata": {},
   "outputs": [],
   "source": [
    "G = nx.Graph()\n",
    "for x in range(SX):\n",
    "    for y in range(SY):\n",
    "        if (x,y) in corrupted[:LIMIT]:\n",
    "            continue\n",
    "        if (x+1,y) not in corrupted[:LIMIT] and x+1<SX:\n",
    "            G.add_edge((x,y),(x+1,y))\n",
    "        if (x,y+1) not in corrupted[:LIMIT] and y+1<SY:\n",
    "            G.add_edge((x,y),(x,y+1))            "
   ]
  },
  {
   "cell_type": "code",
   "execution_count": 37,
   "id": "ad7ffd19-eae4-4ff0-8a16-d6f0077b00eb",
   "metadata": {},
   "outputs": [
    {
     "data": {
      "text/plain": [
       "320"
      ]
     },
     "execution_count": 37,
     "metadata": {},
     "output_type": "execute_result"
    }
   ],
   "source": [
    "nx.shortest_path_length(G,source=(0,0),target=(SX-1,SY-1))"
   ]
  },
  {
   "cell_type": "code",
   "execution_count": 53,
   "id": "e30ea8be-3adf-4992-a4e7-704bdd67ccc5",
   "metadata": {},
   "outputs": [
    {
     "name": "stdout",
     "output_type": "stream",
     "text": [
      "it : 2905/3450\n",
      "2905\n",
      "34 , 40\n"
     ]
    }
   ],
   "source": [
    "G = nx.Graph()\n",
    "for x in range(SX):\n",
    "    for y in range(SY):\n",
    "        if  x+1<SX:\n",
    "            G.add_edge((x,y),(x+1,y))\n",
    "        if  y+1<SY:\n",
    "            G.add_edge((x,y),(x,y+1))\n",
    "\n",
    "for i,(x,y) in enumerate(corrupted):\n",
    "    print(f'it : {i}/{len(corrupted)}', end='\\r')\n",
    "    G.remove_node((x,y))\n",
    "    if not nx.has_path(G,source=(0,0),target=(SX-1,SY-1)):\n",
    "        print()\n",
    "        print(i)\n",
    "        print(x,',',y)\n",
    "        break"
   ]
  },
  {
   "cell_type": "code",
   "execution_count": null,
   "id": "6fa1e3e8-981a-45c5-a302-87776d842581",
   "metadata": {},
   "outputs": [],
   "source": []
  }
 ],
 "metadata": {
  "kernelspec": {
   "display_name": "Python 3 (ipykernel)",
   "language": "python",
   "name": "python3"
  },
  "language_info": {
   "codemirror_mode": {
    "name": "ipython",
    "version": 3
   },
   "file_extension": ".py",
   "mimetype": "text/x-python",
   "name": "python",
   "nbconvert_exporter": "python",
   "pygments_lexer": "ipython3",
   "version": "3.12.7"
  }
 },
 "nbformat": 4,
 "nbformat_minor": 5
}
