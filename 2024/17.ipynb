{
 "cells": [
  {
   "cell_type": "code",
   "execution_count": 170,
   "id": "9732ac7b",
   "metadata": {},
   "outputs": [],
   "source": [
    "DAY = \"17\""
   ]
  },
  {
   "cell_type": "code",
   "execution_count": 171,
   "id": "99f78261",
   "metadata": {},
   "outputs": [],
   "source": [
    "import os\n",
    "with open(f'session.secret','r') as f:\n",
    "    SESSION = f\"session={f.read()}\"\n",
    "\n",
    "INPUT_FILE = f\"{DAY}.txt\""
   ]
  },
  {
   "cell_type": "code",
   "execution_count": 189,
   "id": "1df01622",
   "metadata": {},
   "outputs": [],
   "source": [
    "# Manual INPUT\n",
    "INPUT =\"\"\"Register A: 2024\n",
    "Register B: 0\n",
    "Register C: 0\n",
    "\n",
    "Program: 0,3,5,4,3,0\"\"\""
   ]
  },
  {
   "cell_type": "code",
   "execution_count": 200,
   "id": "83fbaad9",
   "metadata": {},
   "outputs": [],
   "source": [
    "# Automatic INPUT\n",
    "import os.path\n",
    "if not os.path.isfile(INPUT_FILE):\n",
    "    !curl https://adventofcode.com/2024/day/{DAY}/input --cookie {SESSION} > {INPUT_FILE}\n",
    "with open(INPUT_FILE,'r') as f:\n",
    "    INPUT = f.read().strip()"
   ]
  },
  {
   "cell_type": "markdown",
   "id": "f8d307b4",
   "metadata": {},
   "source": [
    "## Usefull import"
   ]
  },
  {
   "cell_type": "code",
   "execution_count": 236,
   "id": "632d2a8b",
   "metadata": {},
   "outputs": [],
   "source": [
    "import numpy as np\n",
    "import pandas as pd\n",
    "import networkx as nx\n",
    "import copy as cp\n",
    "import re"
   ]
  },
  {
   "cell_type": "code",
   "execution_count": 237,
   "id": "f217cac4-9a63-42e3-bf8b-3eb83f42b8db",
   "metadata": {},
   "outputs": [],
   "source": [
    "DIR = {(0,1):'>',(1,0):'v',(0,-1):'<',(-1,0):'^'}\n",
    "DIRd = {v:k for k,v in DIR.items()}"
   ]
  },
  {
   "cell_type": "markdown",
   "id": "f4994ba9",
   "metadata": {},
   "source": [
    "## Solution"
   ]
  },
  {
   "cell_type": "code",
   "execution_count": 238,
   "id": "149aec85-cd2c-4ec1-a7da-46801bf42586",
   "metadata": {},
   "outputs": [],
   "source": [
    "def combo(x):\n",
    "    if 0<x<=3:\n",
    "        return x\n",
    "    if x==4:\n",
    "        return A\n",
    "    if x==5:\n",
    "        return B\n",
    "    if x==6:\n",
    "        return C\n",
    "    raise Exception(\"Invalid\")"
   ]
  },
  {
   "cell_type": "code",
   "execution_count": 239,
   "id": "4f4c0d18-6a8a-4875-927e-e8b781e56a53",
   "metadata": {},
   "outputs": [],
   "source": [
    "output = []\n",
    "def adv(x) :\n",
    "    global A,B,C,output\n",
    "    A = A>>combo(x)\n",
    "def bxl(x):\n",
    "    global A,B,C,output\n",
    "    B= B^x\n",
    "def bst(x):\n",
    "    global A,B,C,output\n",
    "    B=combo(x)%8\n",
    "def jnz(x):\n",
    "    global A,B,C,output\n",
    "    if A==0:\n",
    "        return None\n",
    "    return x\n",
    "def bxc(x):\n",
    "    global A,B,C,output\n",
    "    B=B^C\n",
    "def out(x):\n",
    "    global A,B,C,output\n",
    "    output.append(combo(x)%8)\n",
    "def bdv(x):\n",
    "    global A,B,C,output\n",
    "    B = A>>combo(x)\n",
    "def cdv(x):\n",
    "    global A,B,C,output\n",
    "    C = A>>combo(x)"
   ]
  },
  {
   "cell_type": "code",
   "execution_count": 240,
   "id": "878d8066-b2be-4ce7-bc3e-297d7bf7ae21",
   "metadata": {},
   "outputs": [],
   "source": [
    "OP= {\n",
    "    0: adv,\n",
    "    1:bxl,\n",
    "    2:bst,\n",
    "    3:jnz,\n",
    "    4:bxc,\n",
    "    5:out,\n",
    "    6:bdv,\n",
    "    7:cdv\n",
    "}"
   ]
  },
  {
   "cell_type": "code",
   "execution_count": 267,
   "id": "8355afe6-46db-4d33-a100-df8aa9ddcc41",
   "metadata": {},
   "outputs": [
    {
     "name": "stdout",
     "output_type": "stream",
     "text": [
      "2,4,1,7,7,5,1,7,0,3,4,1,5,5,3,0\n"
     ]
    }
   ],
   "source": [
    "output.clear()\n",
    "A = int(re.findall(r\"Register A:\\s+([0-9]+)\",INPUT)[0])\n",
    "B = int(re.findall(r\"Register B:\\s+([0-9]+)\",INPUT)[0])\n",
    "C = int(re.findall(r\"Register C:\\s+([0-9]+)\",INPUT)[0])\n",
    "program = [int(x) for x in re.findall(r\"Program:\\s+([0-9,]+)\",INPUT)[0].split(',')]\n",
    "ptr=0\n",
    "jump=None\n",
    "i = 0\n",
    "while 0<=ptr<len(program):\n",
    "    jump = OP[program[ptr]](program[ptr+1])\n",
    "    if jump is not None:\n",
    "        ptr=jump\n",
    "        jump=None\n",
    "    else:\n",
    "        ptr+=2\n",
    "    \n",
    "print(','.join([str(o) for o in output]))"
   ]
  },
  {
   "cell_type": "code",
   "execution_count": 250,
   "id": "df438fc9-eabb-4e96-a5fe-8910299f1d4f",
   "metadata": {},
   "outputs": [],
   "source": [
    "def is_correct(A,result):\n",
    "    # Note: this only work for my program, so different input might use different check\n",
    "    # But I think solution remain the same: \n",
    "    #      A is shifted by 3 bit each loop and loop stop when A=0\n",
    "    #      You can determine the last output of your program based on the first 3 bits of A\n",
    "    #      Using the firsts 3 bits of A you can check the output before with all next 3 bits\n",
    "    # To make is work:\n",
    "    #    check for one loop if the output is the same as result for a given A\n",
    "    B= A%8\n",
    "    B = B^7\n",
    "    C = A>>B\n",
    "    B = B^7\n",
    "    A = A>>3\n",
    "    B = B^C\n",
    "    return B%8==result"
   ]
  },
  {
   "cell_type": "code",
   "execution_count": 264,
   "id": "3452bb30-732f-41bc-b09d-9017656ff89f",
   "metadata": {},
   "outputs": [],
   "source": [
    "def solve(A,results):\n",
    "    if len(results) == 0:\n",
    "        return [A]\n",
    "    all_solution = []\n",
    "    for a in range(8):\n",
    "        possible_A = (A<<3)|a\n",
    "        if is_correct(possible_A,results[-1]):\n",
    "            all_solution+=solve(possible_A,results[:-1])\n",
    "    return all_solution\n",
    "        "
   ]
  },
  {
   "cell_type": "code",
   "execution_count": 266,
   "id": "404240fa-086d-42a8-b9c2-bdd2cccd1844",
   "metadata": {},
   "outputs": [
    {
     "data": {
      "text/plain": [
       "265601188299675"
      ]
     },
     "execution_count": 266,
     "metadata": {},
     "output_type": "execute_result"
    }
   ],
   "source": [
    "min(solve(0,program))"
   ]
  },
  {
   "cell_type": "code",
   "execution_count": null,
   "id": "13969c5c-f838-4b6a-9adb-9319c05e4460",
   "metadata": {},
   "outputs": [],
   "source": []
  }
 ],
 "metadata": {
  "kernelspec": {
   "display_name": "Python 3 (ipykernel)",
   "language": "python",
   "name": "python3"
  },
  "language_info": {
   "codemirror_mode": {
    "name": "ipython",
    "version": 3
   },
   "file_extension": ".py",
   "mimetype": "text/x-python",
   "name": "python",
   "nbconvert_exporter": "python",
   "pygments_lexer": "ipython3",
   "version": "3.12.7"
  }
 },
 "nbformat": 4,
 "nbformat_minor": 5
}
