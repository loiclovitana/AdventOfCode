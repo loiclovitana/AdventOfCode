{
 "cells": [
  {
   "cell_type": "code",
   "execution_count": 1,
   "metadata": {},
   "outputs": [],
   "source": [
    "DAY = \"24\""
   ]
  },
  {
   "cell_type": "code",
   "execution_count": 2,
   "metadata": {},
   "outputs": [],
   "source": [
    "import os\n",
    "with open(f'session.secret','r') as f:\n",
    "    SESSION = f\"session={f.read()}\"\n",
    "\n",
    "INPUT_FILE = f\"{DAY}.txt\""
   ]
  },
  {
   "cell_type": "code",
   "execution_count": 3,
   "metadata": {},
   "outputs": [],
   "source": [
    "# Manual INPUT\n",
    "INPUT =\"\"\"x00: 1\n",
    "x01: 1\n",
    "x02: 1\n",
    "y00: 0\n",
    "y01: 1\n",
    "y02: 0\n",
    "\n",
    "x00 AND y00 -> z00\n",
    "x01 XOR y01 -> z01\n",
    "x02 OR y02 -> z02\n",
    "\"\"\""
   ]
  },
  {
   "cell_type": "code",
   "execution_count": 4,
   "metadata": {},
   "outputs": [],
   "source": [
    "# Automatic INPUT\n",
    "import os.path\n",
    "if not os.path.isfile(INPUT_FILE):\n",
    "    !curl https://adventofcode.com/2024/day/{DAY}/input --cookie {SESSION} > {INPUT_FILE}\n",
    "with open(INPUT_FILE,'r') as f:\n",
    "    INPUT = f.read().strip()"
   ]
  },
  {
   "cell_type": "markdown",
   "metadata": {},
   "source": [
    "## Usefull import"
   ]
  },
  {
   "cell_type": "code",
   "execution_count": 5,
   "metadata": {},
   "outputs": [],
   "source": [
    "import numpy as np\n",
    "import pandas as pd\n",
    "import networkx as nx\n",
    "import copy as cp\n",
    "import re"
   ]
  },
  {
   "cell_type": "code",
   "execution_count": 6,
   "metadata": {},
   "outputs": [],
   "source": [
    "DIR = {(0,1):'>',(1,0):'v',(0,-1):'<',(-1,0):'^'}\n",
    "DIRd = {v:k for k,v in DIR.items()}"
   ]
  },
  {
   "cell_type": "markdown",
   "metadata": {},
   "source": [
    "## Solution"
   ]
  },
  {
   "cell_type": "code",
   "execution_count": 7,
   "metadata": {},
   "outputs": [],
   "source": [
    "OP ={\n",
    "    'OR':(lambda x1,x2: x1 or x2),\n",
    "    'XOR':(lambda x1,x2: x1 != x2),\n",
    "    'AND':(lambda x1,x2: x1 and x2)\n",
    "}"
   ]
  },
  {
   "cell_type": "code",
   "execution_count": 8,
   "metadata": {},
   "outputs": [],
   "source": [
    "def sort_circuit(circuit,init_vals):\n",
    "    sorted_circuit = []\n",
    "    vals= set(init_vals)\n",
    "    while len(sorted_circuit)<len(circuit):\n",
    "        for c in circuit:\n",
    "            if c in sorted_circuit:\n",
    "                continue\n",
    "            if c[0] in vals and c[2] in vals:\n",
    "                sorted_circuit.append(c)\n",
    "                vals.add(c[3])\n",
    "    return sorted_circuit"
   ]
  },
  {
   "cell_type": "code",
   "execution_count": 9,
   "metadata": {},
   "outputs": [],
   "source": [
    "val = {row.split(':')[0].strip() : bool(int(row.split(':')[1].strip())) for row in INPUT.split('\\n\\n')[0].strip().split('\\n')}\n",
    "circuit = re.findall(r\"([0-9a-z]{3}) (AND|XOR|OR) ([0-9a-z]{3}) -> ([0-9a-z]{3})\",INPUT)\n",
    "circuit = sort_circuit(circuit,val.keys())"
   ]
  },
  {
   "cell_type": "code",
   "execution_count": 10,
   "metadata": {},
   "outputs": [
    {
     "data": {
      "text/plain": [
       "58740594706150"
      ]
     },
     "execution_count": 10,
     "metadata": {},
     "output_type": "execute_result"
    }
   ],
   "source": [
    "for x1,oper,x2,res in circuit:\n",
    "    val[res] = OP[oper](val[x1],val[x2])\n",
    "z = 0\n",
    "for var,value in val.items():\n",
    "    if var[0]!='z':\n",
    "        continue\n",
    "    if value:\n",
    "        digit = int(var[1:])\n",
    "        z+= 1<<digit\n",
    "z"
   ]
  },
  {
   "cell_type": "code",
   "execution_count": 11,
   "metadata": {},
   "outputs": [],
   "source": [
    "val = {row.split(':')[0].strip() : bool(int(row.split(':')[1].strip())) for row in INPUT.split('\\n\\n')[0].strip().split('\\n')}\n",
    "circuit = re.findall(r\"([0-9a-z]{3}) (AND|XOR|OR) ([0-9a-z]{3}) -> ([0-9a-z]{3})\",INPUT)\n",
    "circuit_dep = {c[3]:c[:3] for c in circuit}\n",
    "\n",
    "\n",
    "def tree(output,depth=-1):\n",
    "    if output not in circuit_dep or depth==0:\n",
    "        return output\n",
    "    return f\"{output}=({tree(circuit_dep[output][0],depth-1)} {circuit_dep[output][1]} {tree(circuit_dep[output][2],depth-1)})\""
   ]
  },
  {
   "cell_type": "code",
   "execution_count": 12,
   "metadata": {},
   "outputs": [],
   "source": [
    "def new_part(p1,op,p2):\n",
    "    \"\"\" Determine what part of the addition is the result of the operation.\n",
    "        For example:\n",
    "            (r,1) means the operation computes the reminder for the first digit\n",
    "            (z,n) is the n-th digit of the addition result\n",
    "            ...\n",
    "    \"\"\"\n",
    "    x,dx = p1 if p1[0]<p2[0] else p2\n",
    "    y,dy = p2 if p1[0]<p2[0] else p1\n",
    "    if dx==0 and dy==0:\n",
    "        if (x,y,op) == ('x','y','AND'):\n",
    "            return ('r',1)\n",
    "        if (x,y,op) == ('x','y','XOR'):\n",
    "            return ('z',0)\n",
    "    if (x,y,op)==('x','y','XOR') and dx==dy:\n",
    "        return ('xoy',dx)\n",
    "    if (x,y,op)==('x','y','AND') and dx==dy:\n",
    "        return ('xay',dx)\n",
    "    if (x,y,op)==('r','xoy','XOR') and dx==dy:\n",
    "        return ('z',dx)\n",
    "    if (x,y,op)==('r','xoy','AND') and dx==dy:\n",
    "        return ('rxy',dx)\n",
    "    if (x,y,op)==('rxy','xay','OR') and dx==dy:\n",
    "        return ('r',dx+1) if dx+1<45 else ('z',dx+1)\n",
    "    return None"
   ]
  },
  {
   "cell_type": "code",
   "execution_count": 13,
   "metadata": {},
   "outputs": [],
   "source": [
    "def swapped_circuit(swap):\n",
    "    circuit = {c[3]:list(c[:3]) for c in re.findall(r\"([0-9a-z]{3}) (AND|XOR|OR) ([0-9a-z]{3}) -> ([0-9a-z]{3})\",INPUT)}\n",
    "    for o1,o2 in swap.items():\n",
    "        circuit[o1],circuit[o2] = circuit[o2] ,circuit[o1]\n",
    "    return circuit\n",
    "\n",
    "def determine_all_parts(circuit):\n",
    "    val = {row.split(':')[0].strip() : bool(int(row.split(':')[1].strip())) for row in INPUT.split('\\n\\n')[0].strip().split('\\n')}\n",
    "    parts = {x:(x[0],int(x[1:])) for x in val.keys()}\n",
    "    changed = True\n",
    "    while changed:\n",
    "        changed=False\n",
    "        for res,(x,op,y) in circuit.items():\n",
    "            if x in parts and y in parts and res not in parts:\n",
    "                part = new_part(parts[x],op,parts[y])\n",
    "                if part is not None:\n",
    "                    parts[res]=part\n",
    "                    changed=True\n",
    "    return parts"
   ]
  },
  {
   "cell_type": "code",
   "execution_count": 14,
   "metadata": {},
   "outputs": [],
   "source": [
    "## My solution involved \n",
    "##     - run the \"determine_all_parts\" without any swap\n",
    "##     - manually find the last zXX that doesn't match a part ('z',xx) \n",
    "##     - Manually find the swap to make it work (using tree('zxx') for visualization)\n",
    "##     - Add the swap and then redo the steps until everything works\n",
    "swap= {'z14':'hbk'\n",
    "       ,'kvn':'z18'\n",
    "       ,'z23':'dbb'\n",
    "       ,'cvh':'tfn'}\n",
    "\n",
    "parts = determine_all_parts(swapped_circuit(swap))"
   ]
  },
  {
   "cell_type": "code",
   "execution_count": 15,
   "metadata": {},
   "outputs": [
    {
     "data": {
      "text/plain": [
       "'cvh,dbb,hbk,kvn,tfn,z14,z18,z23'"
      ]
     },
     "execution_count": 15,
     "metadata": {},
     "output_type": "execute_result"
    }
   ],
   "source": [
    "a = list(swap.keys()) + list(swap.values())\n",
    "a.sort()\n",
    "','.join(a)"
   ]
  },
  {
   "cell_type": "markdown",
   "metadata": {},
   "source": [
    "## Automatic solution"
   ]
  },
  {
   "cell_type": "code",
   "execution_count": 18,
   "metadata": {},
   "outputs": [],
   "source": [
    "def part_compose(part,digit):\n",
    "    \"\"\"\n",
    "        Decompose a part of the equation into the operation to compute that part.\n",
    "        For example:\n",
    "           part_compose('z',12) => ('r',12),'XOR',('xoy',12) \n",
    "    \"\"\"\n",
    "    if part in ['x','y']:\n",
    "        return None\n",
    "    if part=='z':\n",
    "        if digit==0:\n",
    "            return ('x',0),'XOR',('y',0)\n",
    "        if digit==45:\n",
    "            return part_compose('r',digit)\n",
    "        return ('r',digit),'XOR',('xoy',digit)\n",
    "    if part == 'r':\n",
    "        if digit==0:\n",
    "            ('x',0),'AND',('y',0)\n",
    "        return ('rxy',digit-1),'OR',('xay',digit-1)\n",
    "    if part == 'rxy':\n",
    "        return ('r',digit),'AND',('xoy',digit)\n",
    "    if part == 'xay':\n",
    "        return ('x',digit),'AND',('y',digit)\n",
    "    if part == 'xoy':\n",
    "        return ('x',digit),'XOR',('y',digit)\n",
    "    return None\n",
    "\n",
    "def reverse_find_error(circuit,parts,outs,current_signal,expected_part):\n",
    "    \"\"\"\n",
    "        Find the error recursively.\n",
    "            circuit = the circuit\n",
    "            parts = dict giving what part of the equation is given in an output\n",
    "            outs = dict giving what is the output of a part of the equation\n",
    "        \n",
    "            current_out = output that is incorrect\n",
    "            current_part = expected part or the equation the output should be \n",
    "    \"\"\"\n",
    "    \n",
    "    if expected_part in outs:\n",
    "        # If the expected part of the equation is computed in another output, we simply return this ouput\n",
    "        return current_signal,outs[expected_part]\n",
    "    \n",
    "    expected_part_1,expected_operation,expected_part_2 = part_compose(*expected_part)\n",
    "    signal1,circuit_operation,signal2 = circuit[current_signal]\n",
    "    \n",
    "    if circuit_operation != expected_operation:\n",
    "        raise Exception(f\"Expecting '{expected_operation}', got '{circuit_operation}'\")\n",
    "        \n",
    "    if signal1 not in parts and signal2 not in parts:\n",
    "        raise Exception(f\"Neither signals {signal1} or {signal2} are a part of the equation\")\n",
    "    \n",
    "    def is_signal_correct(signal):\n",
    "        return signal in parts and parts[signal] in [expected_part_1,expected_part_2]\n",
    "    \n",
    "    if is_signal_correct(signal1) and is_signal_correct(signal2):\n",
    "        raise Exception(\"Both part are the correct equation, then equation is correct\")\n",
    "    \n",
    "    if not is_signal_correct(signal1) and not is_signal_correct(signal2):\n",
    "        raise Exception(\"Both part of the equation are incorrect, this algorithm cannot solve it\")\n",
    "    \n",
    "    incorrect_signal = signal2 if is_signal_correct(signal1) else signal1\n",
    "    correct_signal = signal1 if is_signal_correct(signal1) else signal2\n",
    "    new_expected_part = expected_part_1 if parts[correct_signal]==expected_part_2 else expected_part_2\n",
    "    \n",
    "    return reverse_find_error(circuit,parts,outs,incorrect_signal,new_expected_part)\n",
    "    "
   ]
  },
  {
   "cell_type": "code",
   "execution_count": 19,
   "metadata": {},
   "outputs": [
    {
     "data": {
      "text/plain": [
       "'cvh,dbb,hbk,kvn,tfn,z14,z18,z23'"
      ]
     },
     "execution_count": 19,
     "metadata": {},
     "output_type": "execute_result"
    }
   ],
   "source": [
    "## automatic solution\n",
    "is_correct = False\n",
    "swap = dict()\n",
    "while True: \n",
    "    sw_circuit = swapped_circuit(swap)\n",
    "    parts = determine_all_parts(sw_circuit)\n",
    "    outs = {v:k for k,v in parts.items()}\n",
    "    \n",
    "    stop = True\n",
    "    for digit in range(46):\n",
    "        z = f'z{digit:02}'\n",
    "        z_part = ('z',digit)\n",
    "        if z not in parts or parts[z]!=('z',digit):\n",
    "            # z is incorrect\n",
    "            stop = False\n",
    "            break\n",
    "    if stop:\n",
    "        # no error found, all output are correct\n",
    "        break\n",
    "        \n",
    "    # find the error for the z digit output\n",
    "    out1,out2 = reverse_find_error(sw_circuit,parts,outs,z,z_part)\n",
    "    swap[out1]=out2\n",
    "    \n",
    "a = list(swap.keys()) + list(swap.values())\n",
    "a.sort()\n",
    "','.join(a)"
   ]
  },
  {
   "cell_type": "code",
   "execution_count": null,
   "metadata": {},
   "outputs": [],
   "source": []
  }
 ],
 "metadata": {
  "kernelspec": {
   "display_name": "Python 3",
   "language": "python",
   "name": "python3"
  },
  "language_info": {
   "codemirror_mode": {
    "name": "ipython",
    "version": 3
   },
   "file_extension": ".py",
   "mimetype": "text/x-python",
   "name": "python",
   "nbconvert_exporter": "python",
   "pygments_lexer": "ipython3",
   "version": "3.8.10"
  }
 },
 "nbformat": 4,
 "nbformat_minor": 5
}
