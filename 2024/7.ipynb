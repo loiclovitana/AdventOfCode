{
 "cells": [
  {
   "cell_type": "code",
   "execution_count": 1,
   "id": "870bea74",
   "metadata": {},
   "outputs": [
    {
     "data": {
      "application/javascript": [
       "IPython.notebook.kernel.execute('notebook = \"' + IPython.notebook.notebook_name + '\"')\n"
      ],
      "text/plain": [
       "<IPython.core.display.Javascript object>"
      ]
     },
     "metadata": {},
     "output_type": "display_data"
    }
   ],
   "source": [
    "%%javascript\n",
    "IPython.notebook.kernel.execute('notebook = \"' + IPython.notebook.notebook_name + '\"')"
   ]
  },
  {
   "cell_type": "code",
   "execution_count": 41,
   "id": "79e33711",
   "metadata": {},
   "outputs": [],
   "source": [
    "DAY = notebook.split('.')[0]\n",
    "with open(f'{DAY}.txt','r') as f:\n",
    "    INPUT = f.read()"
   ]
  },
  {
   "cell_type": "code",
   "execution_count": 32,
   "id": "fb454b4b",
   "metadata": {},
   "outputs": [],
   "source": [
    "import numpy as np\n",
    "import pandas as pd\n",
    "import networkx as nx"
   ]
  },
  {
   "cell_type": "code",
   "execution_count": 36,
   "id": "7a704aaa",
   "metadata": {},
   "outputs": [],
   "source": [
    "INPUT=\"\"\"190: 10 19\n",
    "3267: 81 40 27\n",
    "83: 17 5\n",
    "156: 15 6\n",
    "7290: 6 8 6 15\n",
    "161011: 16 10 13\n",
    "192: 17 8 14\n",
    "21037: 9 7 18 13\n",
    "292: 11 6 16 20\"\"\""
   ]
  },
  {
   "cell_type": "markdown",
   "id": "8ad87c2b",
   "metadata": {},
   "source": [
    "---\n",
    "## 1"
   ]
  },
  {
   "cell_type": "code",
   "execution_count": 42,
   "id": "ab061d5c",
   "metadata": {},
   "outputs": [],
   "source": [
    "i = {int(v.split(':')[0]):[int(n) for n in v.split(':')[1].strip().split(' ')] for v in INPUT.split('\\n')}"
   ]
  },
  {
   "cell_type": "code",
   "execution_count": 43,
   "id": "e58975c1",
   "metadata": {},
   "outputs": [],
   "source": [
    "def check_possible(c, r, check):\n",
    "    if len(r)==0:\n",
    "        return c==check\n",
    "    return check_possible(c+r[0],r[1:],check) or (c!=0 and check_possible(c*r[0],r[1:],check) )"
   ]
  },
  {
   "cell_type": "code",
   "execution_count": 44,
   "id": "988fc0ad",
   "metadata": {},
   "outputs": [
    {
     "data": {
      "text/plain": [
       "5512534574980"
      ]
     },
     "execution_count": 44,
     "metadata": {},
     "output_type": "execute_result"
    }
   ],
   "source": [
    "s=0\n",
    "for k,v in i.items():\n",
    "    if check_possible(0,v,k):\n",
    "        s+=k\n",
    "s"
   ]
  },
  {
   "cell_type": "markdown",
   "id": "5eeaf0b2",
   "metadata": {},
   "source": [
    "---\n",
    "## 2"
   ]
  },
  {
   "cell_type": "code",
   "execution_count": 47,
   "id": "5b062105",
   "metadata": {},
   "outputs": [],
   "source": [
    "def check_possible_2(c, r, check):\n",
    "    if len(r)==0:\n",
    "        return c==check\n",
    "    return check_possible_2(c+r[0],r[1:],check) or (c!=0 and check_possible_2(c*r[0],r[1:],check) )or (c!=0 and check_possible_2(int(str(c)+str(r[0])),r[1:],check) )"
   ]
  },
  {
   "cell_type": "code",
   "execution_count": 48,
   "id": "16ee1ffc",
   "metadata": {},
   "outputs": [
    {
     "data": {
      "text/plain": [
       "328790210468594"
      ]
     },
     "execution_count": 48,
     "metadata": {},
     "output_type": "execute_result"
    }
   ],
   "source": [
    "s=0\n",
    "for k,v in i.items():\n",
    "    if check_possible_2(0,v,k):\n",
    "        s+=k\n",
    "s"
   ]
  },
  {
   "cell_type": "code",
   "execution_count": null,
   "id": "52ffb6df",
   "metadata": {},
   "outputs": [],
   "source": []
  }
 ],
 "metadata": {
  "kernelspec": {
   "display_name": "Python 3 (ipykernel)",
   "language": "python",
   "name": "python3"
  },
  "language_info": {
   "codemirror_mode": {
    "name": "ipython",
    "version": 3
   },
   "file_extension": ".py",
   "mimetype": "text/x-python",
   "name": "python",
   "nbconvert_exporter": "python",
   "pygments_lexer": "ipython3",
   "version": "3.9.13"
  }
 },
 "nbformat": 4,
 "nbformat_minor": 5
}
