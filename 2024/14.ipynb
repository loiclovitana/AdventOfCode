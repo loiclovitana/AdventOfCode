{
 "cells": [
  {
   "cell_type": "code",
   "execution_count": 1,
   "metadata": {},
   "outputs": [
    {
     "data": {
      "application/javascript": [
       "IPython.notebook.kernel.execute('notebook = \"' + IPython.notebook.notebook_name + '\"')\n"
      ],
      "text/plain": [
       "<IPython.core.display.Javascript object>"
      ]
     },
     "metadata": {},
     "output_type": "display_data"
    }
   ],
   "source": [
    "%%javascript\n",
    "IPython.notebook.kernel.execute('notebook = \"' + IPython.notebook.notebook_name + '\"')"
   ]
  },
  {
   "cell_type": "code",
   "execution_count": 2,
   "metadata": {},
   "outputs": [],
   "source": [
    "import os\n",
    "with open(f'session.secret','r') as f:\n",
    "    SESSION = f\"session={f.read()}\"\n",
    "DAY = notebook.split('.')[0]\n",
    "INPUT_FILE = f\"{DAY}.txt\""
   ]
  },
  {
   "cell_type": "code",
   "execution_count": 3,
   "metadata": {},
   "outputs": [],
   "source": [
    "# Manual INPUT\n",
    "INPUT =\"\"\"INPUT\"\"\""
   ]
  },
  {
   "cell_type": "code",
   "execution_count": 4,
   "metadata": {},
   "outputs": [
    {
     "name": "stdout",
     "output_type": "stream",
     "text": [
      "  % Total    % Received % Xferd  Average Speed   Time    Time     Time  Current\n",
      "                                 Dload  Upload   Total   Spent    Left  Speed\n",
      "100  8337  100  8330    0     0      0      0 --:--:-- --:--:-- --:--:--     07    0     0  27605      0 --:--:-- --:--:-- --:--:-- 27605\n"
     ]
    }
   ],
   "source": [
    "# Automatic INPUT\n",
    "import os.path\n",
    "if not os.path.isfile(INPUT_FILE):\n",
    "    !curl https://adventofcode.com/2024/day/{DAY}/input --cookie {SESSION} > {INPUT_FILE}\n",
    "with open(INPUT_FILE,'r') as f:\n",
    "    INPUT = f.read().strip()"
   ]
  },
  {
   "cell_type": "markdown",
   "metadata": {},
   "source": [
    "## Usefull import"
   ]
  },
  {
   "cell_type": "code",
   "execution_count": 8,
   "metadata": {},
   "outputs": [],
   "source": [
    "import numpy as np\n",
    "import pandas as pd\n",
    "import networkx as nx\n",
    "import copy as cp\n",
    "import re"
   ]
  },
  {
   "cell_type": "markdown",
   "metadata": {},
   "source": [
    "## Part 1"
   ]
  },
  {
   "cell_type": "code",
   "execution_count": 18,
   "metadata": {},
   "outputs": [],
   "source": [
    "SIZE = np.array([101,103])"
   ]
  },
  {
   "cell_type": "code",
   "execution_count": 12,
   "metadata": {},
   "outputs": [],
   "source": [
    "p =np.array( [[int(px),int(py)] for px,py in  re.findall(r\"p=(-?[0-9]+),(-?[0-9]+)\",INPUT)])\n",
    "v =np.array( [[int(vx),int(vy)] for vx,vy in  re.findall(r\"v=(-?[0-9]+),(-?[0-9]+)\",INPUT)])"
   ]
  },
  {
   "cell_type": "code",
   "execution_count": 21,
   "metadata": {},
   "outputs": [],
   "source": [
    "ep = np.mod(p+(v*100),SIZE)"
   ]
  },
  {
   "cell_type": "code",
   "execution_count": 24,
   "metadata": {},
   "outputs": [
    {
     "data": {
      "text/plain": [
       "225648864"
      ]
     },
     "execution_count": 24,
     "metadata": {},
     "output_type": "execute_result"
    }
   ],
   "source": [
    "q1,q2,q3,q4 = 0,0,0,0\n",
    "for x,y in ep:\n",
    "    if x==(SIZE[0]-1)/2 or y==(SIZE[1]-1)/2:\n",
    "        continue\n",
    "    if x> SIZE[0]/2:\n",
    "        if y>SIZE[1]/2:\n",
    "            q1+=1\n",
    "        else:\n",
    "            q2+=1\n",
    "    else:\n",
    "        if y>SIZE[1]/2:\n",
    "            q3+=1\n",
    "        else:\n",
    "            q4+=1\n",
    "q1*q2*q3*q4"
   ]
  },
  {
   "cell_type": "code",
   "execution_count": 27,
   "metadata": {},
   "outputs": [],
   "source": [
    "def display(pos):\n",
    "    for y in range(103):\n",
    "        line = ['.']*101\n",
    "        for px,py in pos:\n",
    "            if py==y:\n",
    "                line[px]='O'\n",
    "        print(''.join(line))"
   ]
  },
  {
   "cell_type": "code",
   "execution_count": 48,
   "metadata": {},
   "outputs": [],
   "source": [
    "def sim_factor(pos):\n",
    "    sp= set([(px,py) for px,py in pos])\n",
    "    sim=0\n",
    "    for px,py in pos:\n",
    "        if (100-px,py) in sp:\n",
    "            sim+=1\n",
    "    return sim\n"
   ]
  },
  {
   "cell_type": "code",
   "execution_count": 54,
   "metadata": {
    "scrolled": false
   },
   "outputs": [
    {
     "name": "stdout",
     "output_type": "stream",
     "text": [
      "sec=7847s  max_sim=108 at 7847s\r"
     ]
    }
   ],
   "source": [
    "cp = p\n",
    "exit = ''\n",
    "sec = 0\n",
    "max_sim,max_s = 0,0\n",
    "while exit!='y':\n",
    "    cp = np.mod(cp+v,SIZE)\n",
    "    sec += 1\n",
    "    sim_f = sim_factor(cp)\n",
    "    if sim_f>=100:\n",
    "        \n",
    "        print(sec)\n",
    "        display(cp)\n",
    "        print(sec)\n",
    "    \n",
    "        exit=input(f'second = {sec}, exit?(y)')\n",
    "        clear_output()\n",
    "    \n",
    "    if sim_f>max_sim:\n",
    "        max_sim=sim_f\n",
    "        max_s=sec\n",
    "    print(f\"sec={sec}s  max_sim={max_sim} at {max_s}s\", end='\\r')"
   ]
  },
  {
   "cell_type": "code",
   "execution_count": null,
   "metadata": {},
   "outputs": [],
   "source": []
  }
 ],
 "metadata": {
  "kernelspec": {
   "display_name": "Python 3",
   "language": "python",
   "name": "python3"
  },
  "language_info": {
   "codemirror_mode": {
    "name": "ipython",
    "version": 3
   },
   "file_extension": ".py",
   "mimetype": "text/x-python",
   "name": "python",
   "nbconvert_exporter": "python",
   "pygments_lexer": "ipython3",
   "version": "3.8.10"
  }
 },
 "nbformat": 4,
 "nbformat_minor": 5
}
